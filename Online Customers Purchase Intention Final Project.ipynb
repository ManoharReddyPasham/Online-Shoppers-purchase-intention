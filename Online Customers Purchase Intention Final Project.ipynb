{
 "cells": [
  {
   "cell_type": "markdown",
   "id": "4ca50fb6-ca16-4e25-9f1a-4459ca9f1820",
   "metadata": {},
   "source": [
    "# FINAL PROJECT -- ONLINE SHOPPER'S PURCHASE INTENTION"
   ]
  },
  {
   "cell_type": "markdown",
   "id": "36e5baf6-4fcc-4df4-80d6-1cc2c8211cfe",
   "metadata": {},
   "source": [
    "## TEAM PEERLESS\n",
    "\n",
    " \n",
    "### Nimith Narapareddy -------- U64915972\n",
    "### Pottumurthi Mani sai ------ U20468035\n",
    "### Nandini Bethamcharla ------ U35263346\n",
    "### Lakshmi Lavanya Javvadi --- U85351468\n",
    "### Manohar Reddy Pasham ------ U51001133"
   ]
  },
  {
   "cell_type": "markdown",
   "id": "592c0ea8-3f08-4087-a43b-61d1d963a7f6",
   "metadata": {},
   "source": [
    "# Bussiness Problem\n",
    "\n"
   ]
  },
  {
   "cell_type": "markdown",
   "id": "38366d03-a058-49c5-9d32-468d37d99e7a",
   "metadata": {},
   "source": [
    "#### One of the many sectors that data science has transformed is e-commerce, the act of purchasing and selling goods online. Increasing buy conversion rates—the proportion of website visitors who make a purchase at an online store—is one of the key objectives for e-commerce businesses. E-commerce businesses and academic researchers have worked hard to analyze and simulate the online consumers' behavior in order to attain this goal. Machine learning techniques are increasingly being used in research to forecast user behavior, particularly in recent years.\n",
    "\n",
    "#### The collection of online buyers' intended purchases comprises of feature vectors from 12,330 sessions. In order to prevent any inclination to a certain campaign, special day, user profile, or timeframe, the dataset is created so that each session would belong to a different user over the course of a year. More than 85% of online transactions did not result in users making a purchase, which prevented the e-commerce company from making any money. This is a very serious problem that could adversely impact the company's market share in the future.\n",
    "\n",
    "#### TOur ultimate goal is to assess the provided data and suggest/predict a plausible action plan for the business that it can use in conjunction with its marketing initiatives to boost the amount of online visitors who successfully complete their purchases. This will boost the company's ability to generate revenue and expand its market share.\n"
   ]
  },
  {
   "cell_type": "markdown",
   "id": "4d5d4d63-65c5-41c0-b5c6-fbbd8619a167",
   "metadata": {},
   "source": [
    "\n",
    "# Importing all Required Libraries"
   ]
  },
  {
   "cell_type": "code",
   "execution_count": 1,
   "id": "55e9c94b-64ec-4e0d-ace2-6bb05c09abd4",
   "metadata": {},
   "outputs": [],
   "source": [
    "## Importing all the necessary libraries\n",
    "\n",
    "## To suppress warnings\n",
    "import warnings\n",
    "warnings.filterwarnings(\"ignore\")\n",
    "\n",
    "import numpy as np\n",
    "np.random.seed(0)   ## set random seed\n",
    "import pandas as pd\n",
    "import chardet\n",
    "import os\n",
    "import pickle\n",
    "from collections import Counter\n",
    "\n",
    "# For plots\n",
    "import matplotlib.pyplot as plt\n",
    "%matplotlib inline\n",
    "import seaborn as sns\n",
    "\n",
    "# sklearn packages (for pre-processing, model-building, evaluators, cross-validators, etc.)\n",
    "from sklearn import model_selection\n",
    "from sklearn.model_selection import train_test_split\n",
    "from sklearn.preprocessing import PolynomialFeatures, PowerTransformer\n",
    "from sklearn import preprocessing\n",
    "from sklearn import metrics\n",
    "from sklearn.metrics import confusion_matrix\n",
    "from sklearn import linear_model\n",
    "from sklearn.linear_model import LogisticRegression\n",
    "from sklearn.model_selection import StratifiedKFold\n",
    "from sklearn.model_selection import RandomizedSearchCV\n",
    "from sklearn.metrics import accuracy_score, recall_score, precision_score, classification_report, roc_auc_score, f1_score\n",
    "from sklearn.metrics import precision_recall_curve, auc\n",
    "from sklearn.tree import DecisionTreeClassifier\n",
    "from sklearn.ensemble import RandomForestClassifier\n",
    "from sklearn.svm import SVC\n",
    "from sklearn.neighbors import KNeighborsClassifier\n",
    "from sklearn.model_selection import StratifiedShuffleSplit\n",
    "# Imblearn packages (for over_sampling and imblearn pipelines)\n",
    "from imblearn import over_sampling\n",
    "from imblearn.over_sampling import SMOTE, ADASYN, RandomOverSampler\n",
    "from imblearn.pipeline import Pipeline, make_pipeline  ## Using packages from imblearn.pipeline for making pipelines\n",
    "\n",
    "## xgboost packages\n",
    "import xgboost as xgb\n",
    "from xgboost import XGBClassifier\n",
    "from xgboost import plot_importance\n",
    "\n",
    "## time and datetime\n",
    "import datetime\n",
    "import time\n",
    "\n",
    "\n",
    "## Pandas DataFrame display options\n",
    "pd.set_option('display.max_columns', None)\n",
    "pd.set_option(\"max_colwidth\", None)\n",
    "pd.set_option(\"display.max_rows\", None)\n",
    "pd.set_option('display.max_seq_items', None) #For printing a long-sequence\n"
   ]
  },
  {
   "cell_type": "markdown",
   "id": "d169eeea",
   "metadata": {},
   "source": [
    "# Description of the Data Set"
   ]
  },
  {
   "cell_type": "markdown",
   "id": "445591c7",
   "metadata": {},
   "source": [
    "##### The dataset consists of feature vectors belonging to 12,330 sessions. The dataset was formed so that each session would belong to a different user in a 1-year period to avoid any tendency to a specific campaign, special day, user profile, or period.\n",
    "##### The dataset consists of 10 numerical and 8 categorical attributes.The 'Revenue' attribute can be used as the class label.\n",
    "##### Administrative: This is the number of pages of this type (administrative) that the user visited.\n",
    "##### Administrative_Duration: This is the amount of time spent in this category of pages.\n",
    "##### Informational: This is the number of pages of this type (informational) that the user visited.\n",
    "##### Informational_Duration: This is the amount of time spent in this category of pages.\n",
    "##### ProductRelated: This is the number of pages of this type (product related) that the user visited.\n",
    "##### ProductRelated_Duration : This is the amount of time spent in this category of pages.\n",
    "##### BounceRates: The percentage of visitors who enter the website through that page and exit without triggering any additional tasks.\n",
    "##### ExitRates: The percentage of pageviews on the website that end at that specific page.\n",
    "##### PageValues: The average value of the page averaged over the value of the target page and/or the completion of an eCommerce transaction.\n",
    "##### SpecialDay: This value represents the closeness of the browsing date to special days or holidays (eg Mother's Day or Valentine's day) in which the transaction is more likely to be finalized.\n"
   ]
  },
  {
   "cell_type": "markdown",
   "id": "10dc9735-615a-4b13-bab0-e925ba53e458",
   "metadata": {},
   "source": [
    "# Loading the dataset"
   ]
  },
  {
   "cell_type": "code",
   "execution_count": 2,
   "id": "1aaee783-7788-4021-ab25-f2c5299d0054",
   "metadata": {},
   "outputs": [],
   "source": [
    "df = pd.read_csv('./online_shoppers_intention.csv') #loading data"
   ]
  },
  {
   "cell_type": "markdown",
   "id": "83ef5008-9243-46be-acfd-e508b9b49bdf",
   "metadata": {},
   "source": [
    "# Explore the dataset"
   ]
  },
  {
   "cell_type": "code",
   "execution_count": 3,
   "id": "78ef92d3-0331-4ac4-a37f-65295f82acbc",
   "metadata": {},
   "outputs": [
    {
     "data": {
      "text/html": [
       "<div>\n",
       "<style scoped>\n",
       "    .dataframe tbody tr th:only-of-type {\n",
       "        vertical-align: middle;\n",
       "    }\n",
       "\n",
       "    .dataframe tbody tr th {\n",
       "        vertical-align: top;\n",
       "    }\n",
       "\n",
       "    .dataframe thead th {\n",
       "        text-align: right;\n",
       "    }\n",
       "</style>\n",
       "<table border=\"1\" class=\"dataframe\">\n",
       "  <thead>\n",
       "    <tr style=\"text-align: right;\">\n",
       "      <th></th>\n",
       "      <th>Administrative</th>\n",
       "      <th>Administrative_Duration</th>\n",
       "      <th>Informational</th>\n",
       "      <th>Informational_Duration</th>\n",
       "      <th>ProductRelated</th>\n",
       "      <th>ProductRelated_Duration</th>\n",
       "      <th>BounceRates</th>\n",
       "      <th>ExitRates</th>\n",
       "      <th>PageValues</th>\n",
       "      <th>SpecialDay</th>\n",
       "      <th>Month</th>\n",
       "      <th>OperatingSystems</th>\n",
       "      <th>Browser</th>\n",
       "      <th>Region</th>\n",
       "      <th>TrafficType</th>\n",
       "      <th>VisitorType</th>\n",
       "      <th>Weekend</th>\n",
       "      <th>Revenue</th>\n",
       "    </tr>\n",
       "  </thead>\n",
       "  <tbody>\n",
       "    <tr>\n",
       "      <th>0</th>\n",
       "      <td>0</td>\n",
       "      <td>0.0</td>\n",
       "      <td>0</td>\n",
       "      <td>0.0</td>\n",
       "      <td>1</td>\n",
       "      <td>0.000000</td>\n",
       "      <td>0.20</td>\n",
       "      <td>0.20</td>\n",
       "      <td>0.0</td>\n",
       "      <td>0.0</td>\n",
       "      <td>Feb</td>\n",
       "      <td>1</td>\n",
       "      <td>1</td>\n",
       "      <td>1</td>\n",
       "      <td>1</td>\n",
       "      <td>Returning_Visitor</td>\n",
       "      <td>False</td>\n",
       "      <td>False</td>\n",
       "    </tr>\n",
       "    <tr>\n",
       "      <th>1</th>\n",
       "      <td>0</td>\n",
       "      <td>0.0</td>\n",
       "      <td>0</td>\n",
       "      <td>0.0</td>\n",
       "      <td>2</td>\n",
       "      <td>64.000000</td>\n",
       "      <td>0.00</td>\n",
       "      <td>0.10</td>\n",
       "      <td>0.0</td>\n",
       "      <td>0.0</td>\n",
       "      <td>Feb</td>\n",
       "      <td>2</td>\n",
       "      <td>2</td>\n",
       "      <td>1</td>\n",
       "      <td>2</td>\n",
       "      <td>Returning_Visitor</td>\n",
       "      <td>False</td>\n",
       "      <td>False</td>\n",
       "    </tr>\n",
       "    <tr>\n",
       "      <th>2</th>\n",
       "      <td>0</td>\n",
       "      <td>0.0</td>\n",
       "      <td>0</td>\n",
       "      <td>0.0</td>\n",
       "      <td>1</td>\n",
       "      <td>0.000000</td>\n",
       "      <td>0.20</td>\n",
       "      <td>0.20</td>\n",
       "      <td>0.0</td>\n",
       "      <td>0.0</td>\n",
       "      <td>Feb</td>\n",
       "      <td>4</td>\n",
       "      <td>1</td>\n",
       "      <td>9</td>\n",
       "      <td>3</td>\n",
       "      <td>Returning_Visitor</td>\n",
       "      <td>False</td>\n",
       "      <td>False</td>\n",
       "    </tr>\n",
       "    <tr>\n",
       "      <th>3</th>\n",
       "      <td>0</td>\n",
       "      <td>0.0</td>\n",
       "      <td>0</td>\n",
       "      <td>0.0</td>\n",
       "      <td>2</td>\n",
       "      <td>2.666667</td>\n",
       "      <td>0.05</td>\n",
       "      <td>0.14</td>\n",
       "      <td>0.0</td>\n",
       "      <td>0.0</td>\n",
       "      <td>Feb</td>\n",
       "      <td>3</td>\n",
       "      <td>2</td>\n",
       "      <td>2</td>\n",
       "      <td>4</td>\n",
       "      <td>Returning_Visitor</td>\n",
       "      <td>False</td>\n",
       "      <td>False</td>\n",
       "    </tr>\n",
       "    <tr>\n",
       "      <th>4</th>\n",
       "      <td>0</td>\n",
       "      <td>0.0</td>\n",
       "      <td>0</td>\n",
       "      <td>0.0</td>\n",
       "      <td>10</td>\n",
       "      <td>627.500000</td>\n",
       "      <td>0.02</td>\n",
       "      <td>0.05</td>\n",
       "      <td>0.0</td>\n",
       "      <td>0.0</td>\n",
       "      <td>Feb</td>\n",
       "      <td>3</td>\n",
       "      <td>3</td>\n",
       "      <td>1</td>\n",
       "      <td>4</td>\n",
       "      <td>Returning_Visitor</td>\n",
       "      <td>True</td>\n",
       "      <td>False</td>\n",
       "    </tr>\n",
       "  </tbody>\n",
       "</table>\n",
       "</div>"
      ],
      "text/plain": [
       "   Administrative  Administrative_Duration  Informational  \\\n",
       "0               0                      0.0              0   \n",
       "1               0                      0.0              0   \n",
       "2               0                      0.0              0   \n",
       "3               0                      0.0              0   \n",
       "4               0                      0.0              0   \n",
       "\n",
       "   Informational_Duration  ProductRelated  ProductRelated_Duration  \\\n",
       "0                     0.0               1                 0.000000   \n",
       "1                     0.0               2                64.000000   \n",
       "2                     0.0               1                 0.000000   \n",
       "3                     0.0               2                 2.666667   \n",
       "4                     0.0              10               627.500000   \n",
       "\n",
       "   BounceRates  ExitRates  PageValues  SpecialDay Month  OperatingSystems  \\\n",
       "0         0.20       0.20         0.0         0.0   Feb                 1   \n",
       "1         0.00       0.10         0.0         0.0   Feb                 2   \n",
       "2         0.20       0.20         0.0         0.0   Feb                 4   \n",
       "3         0.05       0.14         0.0         0.0   Feb                 3   \n",
       "4         0.02       0.05         0.0         0.0   Feb                 3   \n",
       "\n",
       "   Browser  Region  TrafficType        VisitorType  Weekend  Revenue  \n",
       "0        1       1            1  Returning_Visitor    False    False  \n",
       "1        2       1            2  Returning_Visitor    False    False  \n",
       "2        1       9            3  Returning_Visitor    False    False  \n",
       "3        2       2            4  Returning_Visitor    False    False  \n",
       "4        3       1            4  Returning_Visitor     True    False  "
      ]
     },
     "execution_count": 3,
     "metadata": {},
     "output_type": "execute_result"
    }
   ],
   "source": [
    "df.head() # checking first 5 columns"
   ]
  },
  {
   "cell_type": "code",
   "execution_count": 4,
   "id": "2975c81d",
   "metadata": {},
   "outputs": [
    {
     "data": {
      "text/html": [
       "<div>\n",
       "<style scoped>\n",
       "    .dataframe tbody tr th:only-of-type {\n",
       "        vertical-align: middle;\n",
       "    }\n",
       "\n",
       "    .dataframe tbody tr th {\n",
       "        vertical-align: top;\n",
       "    }\n",
       "\n",
       "    .dataframe thead th {\n",
       "        text-align: right;\n",
       "    }\n",
       "</style>\n",
       "<table border=\"1\" class=\"dataframe\">\n",
       "  <thead>\n",
       "    <tr style=\"text-align: right;\">\n",
       "      <th></th>\n",
       "      <th>Administrative</th>\n",
       "      <th>Administrative_Duration</th>\n",
       "      <th>Informational</th>\n",
       "      <th>Informational_Duration</th>\n",
       "      <th>ProductRelated</th>\n",
       "      <th>ProductRelated_Duration</th>\n",
       "      <th>BounceRates</th>\n",
       "      <th>ExitRates</th>\n",
       "      <th>PageValues</th>\n",
       "      <th>SpecialDay</th>\n",
       "      <th>Month</th>\n",
       "      <th>OperatingSystems</th>\n",
       "      <th>Browser</th>\n",
       "      <th>Region</th>\n",
       "      <th>TrafficType</th>\n",
       "      <th>VisitorType</th>\n",
       "      <th>Weekend</th>\n",
       "      <th>Revenue</th>\n",
       "    </tr>\n",
       "  </thead>\n",
       "  <tbody>\n",
       "    <tr>\n",
       "      <th>12325</th>\n",
       "      <td>3</td>\n",
       "      <td>145.0</td>\n",
       "      <td>0</td>\n",
       "      <td>0.0</td>\n",
       "      <td>53</td>\n",
       "      <td>1783.791667</td>\n",
       "      <td>0.007143</td>\n",
       "      <td>0.029031</td>\n",
       "      <td>12.241717</td>\n",
       "      <td>0.0</td>\n",
       "      <td>Dec</td>\n",
       "      <td>4</td>\n",
       "      <td>6</td>\n",
       "      <td>1</td>\n",
       "      <td>1</td>\n",
       "      <td>Returning_Visitor</td>\n",
       "      <td>True</td>\n",
       "      <td>False</td>\n",
       "    </tr>\n",
       "    <tr>\n",
       "      <th>12326</th>\n",
       "      <td>0</td>\n",
       "      <td>0.0</td>\n",
       "      <td>0</td>\n",
       "      <td>0.0</td>\n",
       "      <td>5</td>\n",
       "      <td>465.750000</td>\n",
       "      <td>0.000000</td>\n",
       "      <td>0.021333</td>\n",
       "      <td>0.000000</td>\n",
       "      <td>0.0</td>\n",
       "      <td>Nov</td>\n",
       "      <td>3</td>\n",
       "      <td>2</td>\n",
       "      <td>1</td>\n",
       "      <td>8</td>\n",
       "      <td>Returning_Visitor</td>\n",
       "      <td>True</td>\n",
       "      <td>False</td>\n",
       "    </tr>\n",
       "    <tr>\n",
       "      <th>12327</th>\n",
       "      <td>0</td>\n",
       "      <td>0.0</td>\n",
       "      <td>0</td>\n",
       "      <td>0.0</td>\n",
       "      <td>6</td>\n",
       "      <td>184.250000</td>\n",
       "      <td>0.083333</td>\n",
       "      <td>0.086667</td>\n",
       "      <td>0.000000</td>\n",
       "      <td>0.0</td>\n",
       "      <td>Nov</td>\n",
       "      <td>3</td>\n",
       "      <td>2</td>\n",
       "      <td>1</td>\n",
       "      <td>13</td>\n",
       "      <td>Returning_Visitor</td>\n",
       "      <td>True</td>\n",
       "      <td>False</td>\n",
       "    </tr>\n",
       "    <tr>\n",
       "      <th>12328</th>\n",
       "      <td>4</td>\n",
       "      <td>75.0</td>\n",
       "      <td>0</td>\n",
       "      <td>0.0</td>\n",
       "      <td>15</td>\n",
       "      <td>346.000000</td>\n",
       "      <td>0.000000</td>\n",
       "      <td>0.021053</td>\n",
       "      <td>0.000000</td>\n",
       "      <td>0.0</td>\n",
       "      <td>Nov</td>\n",
       "      <td>2</td>\n",
       "      <td>2</td>\n",
       "      <td>3</td>\n",
       "      <td>11</td>\n",
       "      <td>Returning_Visitor</td>\n",
       "      <td>False</td>\n",
       "      <td>False</td>\n",
       "    </tr>\n",
       "    <tr>\n",
       "      <th>12329</th>\n",
       "      <td>0</td>\n",
       "      <td>0.0</td>\n",
       "      <td>0</td>\n",
       "      <td>0.0</td>\n",
       "      <td>3</td>\n",
       "      <td>21.250000</td>\n",
       "      <td>0.000000</td>\n",
       "      <td>0.066667</td>\n",
       "      <td>0.000000</td>\n",
       "      <td>0.0</td>\n",
       "      <td>Nov</td>\n",
       "      <td>3</td>\n",
       "      <td>2</td>\n",
       "      <td>1</td>\n",
       "      <td>2</td>\n",
       "      <td>New_Visitor</td>\n",
       "      <td>True</td>\n",
       "      <td>False</td>\n",
       "    </tr>\n",
       "  </tbody>\n",
       "</table>\n",
       "</div>"
      ],
      "text/plain": [
       "       Administrative  Administrative_Duration  Informational  \\\n",
       "12325               3                    145.0              0   \n",
       "12326               0                      0.0              0   \n",
       "12327               0                      0.0              0   \n",
       "12328               4                     75.0              0   \n",
       "12329               0                      0.0              0   \n",
       "\n",
       "       Informational_Duration  ProductRelated  ProductRelated_Duration  \\\n",
       "12325                     0.0              53              1783.791667   \n",
       "12326                     0.0               5               465.750000   \n",
       "12327                     0.0               6               184.250000   \n",
       "12328                     0.0              15               346.000000   \n",
       "12329                     0.0               3                21.250000   \n",
       "\n",
       "       BounceRates  ExitRates  PageValues  SpecialDay Month  OperatingSystems  \\\n",
       "12325     0.007143   0.029031   12.241717         0.0   Dec                 4   \n",
       "12326     0.000000   0.021333    0.000000         0.0   Nov                 3   \n",
       "12327     0.083333   0.086667    0.000000         0.0   Nov                 3   \n",
       "12328     0.000000   0.021053    0.000000         0.0   Nov                 2   \n",
       "12329     0.000000   0.066667    0.000000         0.0   Nov                 3   \n",
       "\n",
       "       Browser  Region  TrafficType        VisitorType  Weekend  Revenue  \n",
       "12325        6       1            1  Returning_Visitor     True    False  \n",
       "12326        2       1            8  Returning_Visitor     True    False  \n",
       "12327        2       1           13  Returning_Visitor     True    False  \n",
       "12328        2       3           11  Returning_Visitor    False    False  \n",
       "12329        2       1            2        New_Visitor     True    False  "
      ]
     },
     "execution_count": 4,
     "metadata": {},
     "output_type": "execute_result"
    }
   ],
   "source": [
    "df.tail()"
   ]
  },
  {
   "cell_type": "code",
   "execution_count": 5,
   "id": "8cd21c75-25b2-4229-8b6a-d703ac1a9239",
   "metadata": {},
   "outputs": [
    {
     "data": {
      "text/plain": [
       "(12330, 18)"
      ]
     },
     "execution_count": 5,
     "metadata": {},
     "output_type": "execute_result"
    }
   ],
   "source": [
    "## Check number of records and feature columns (df.shape)\n",
    "df.shape"
   ]
  },
  {
   "cell_type": "code",
   "execution_count": 6,
   "id": "64d8adb9-6ad5-43d6-a141-00c8abd7761c",
   "metadata": {},
   "outputs": [
    {
     "data": {
      "text/plain": [
       "Index(['Administrative', 'Administrative_Duration', 'Informational',\n",
       "       'Informational_Duration', 'ProductRelated', 'ProductRelated_Duration',\n",
       "       'BounceRates', 'ExitRates', 'PageValues', 'SpecialDay', 'Month',\n",
       "       'OperatingSystems', 'Browser', 'Region', 'TrafficType', 'VisitorType',\n",
       "       'Weekend', 'Revenue'],\n",
       "      dtype='object')"
      ]
     },
     "execution_count": 6,
     "metadata": {},
     "output_type": "execute_result"
    }
   ],
   "source": [
    "df.columns #chcecking column names"
   ]
  },
  {
   "cell_type": "code",
   "execution_count": 7,
   "id": "7bad93b4-29e7-439d-ad66-f1839fbc1171",
   "metadata": {},
   "outputs": [
    {
     "data": {
      "text/html": [
       "<div>\n",
       "<style scoped>\n",
       "    .dataframe tbody tr th:only-of-type {\n",
       "        vertical-align: middle;\n",
       "    }\n",
       "\n",
       "    .dataframe tbody tr th {\n",
       "        vertical-align: top;\n",
       "    }\n",
       "\n",
       "    .dataframe thead th {\n",
       "        text-align: right;\n",
       "    }\n",
       "</style>\n",
       "<table border=\"1\" class=\"dataframe\">\n",
       "  <thead>\n",
       "    <tr style=\"text-align: right;\">\n",
       "      <th></th>\n",
       "      <th>Administrative</th>\n",
       "      <th>Administrative_Duration</th>\n",
       "      <th>Informational</th>\n",
       "      <th>Informational_Duration</th>\n",
       "      <th>ProductRelated</th>\n",
       "      <th>ProductRelated_Duration</th>\n",
       "      <th>BounceRates</th>\n",
       "      <th>ExitRates</th>\n",
       "      <th>PageValues</th>\n",
       "      <th>SpecialDay</th>\n",
       "      <th>OperatingSystems</th>\n",
       "      <th>Browser</th>\n",
       "      <th>Region</th>\n",
       "      <th>TrafficType</th>\n",
       "    </tr>\n",
       "  </thead>\n",
       "  <tbody>\n",
       "    <tr>\n",
       "      <th>count</th>\n",
       "      <td>12330.000000</td>\n",
       "      <td>12330.000000</td>\n",
       "      <td>12330.000000</td>\n",
       "      <td>12330.000000</td>\n",
       "      <td>12330.000000</td>\n",
       "      <td>12330.000000</td>\n",
       "      <td>12330.000000</td>\n",
       "      <td>12330.000000</td>\n",
       "      <td>12330.000000</td>\n",
       "      <td>12330.000000</td>\n",
       "      <td>12330.000000</td>\n",
       "      <td>12330.000000</td>\n",
       "      <td>12330.000000</td>\n",
       "      <td>12330.000000</td>\n",
       "    </tr>\n",
       "    <tr>\n",
       "      <th>mean</th>\n",
       "      <td>2.315166</td>\n",
       "      <td>80.818611</td>\n",
       "      <td>0.503569</td>\n",
       "      <td>34.472398</td>\n",
       "      <td>31.731468</td>\n",
       "      <td>1194.746220</td>\n",
       "      <td>0.022191</td>\n",
       "      <td>0.043073</td>\n",
       "      <td>5.889258</td>\n",
       "      <td>0.061427</td>\n",
       "      <td>2.124006</td>\n",
       "      <td>2.357097</td>\n",
       "      <td>3.147364</td>\n",
       "      <td>4.069586</td>\n",
       "    </tr>\n",
       "    <tr>\n",
       "      <th>std</th>\n",
       "      <td>3.321784</td>\n",
       "      <td>176.779107</td>\n",
       "      <td>1.270156</td>\n",
       "      <td>140.749294</td>\n",
       "      <td>44.475503</td>\n",
       "      <td>1913.669288</td>\n",
       "      <td>0.048488</td>\n",
       "      <td>0.048597</td>\n",
       "      <td>18.568437</td>\n",
       "      <td>0.198917</td>\n",
       "      <td>0.911325</td>\n",
       "      <td>1.717277</td>\n",
       "      <td>2.401591</td>\n",
       "      <td>4.025169</td>\n",
       "    </tr>\n",
       "    <tr>\n",
       "      <th>min</th>\n",
       "      <td>0.000000</td>\n",
       "      <td>0.000000</td>\n",
       "      <td>0.000000</td>\n",
       "      <td>0.000000</td>\n",
       "      <td>0.000000</td>\n",
       "      <td>0.000000</td>\n",
       "      <td>0.000000</td>\n",
       "      <td>0.000000</td>\n",
       "      <td>0.000000</td>\n",
       "      <td>0.000000</td>\n",
       "      <td>1.000000</td>\n",
       "      <td>1.000000</td>\n",
       "      <td>1.000000</td>\n",
       "      <td>1.000000</td>\n",
       "    </tr>\n",
       "    <tr>\n",
       "      <th>25%</th>\n",
       "      <td>0.000000</td>\n",
       "      <td>0.000000</td>\n",
       "      <td>0.000000</td>\n",
       "      <td>0.000000</td>\n",
       "      <td>7.000000</td>\n",
       "      <td>184.137500</td>\n",
       "      <td>0.000000</td>\n",
       "      <td>0.014286</td>\n",
       "      <td>0.000000</td>\n",
       "      <td>0.000000</td>\n",
       "      <td>2.000000</td>\n",
       "      <td>2.000000</td>\n",
       "      <td>1.000000</td>\n",
       "      <td>2.000000</td>\n",
       "    </tr>\n",
       "    <tr>\n",
       "      <th>50%</th>\n",
       "      <td>1.000000</td>\n",
       "      <td>7.500000</td>\n",
       "      <td>0.000000</td>\n",
       "      <td>0.000000</td>\n",
       "      <td>18.000000</td>\n",
       "      <td>598.936905</td>\n",
       "      <td>0.003112</td>\n",
       "      <td>0.025156</td>\n",
       "      <td>0.000000</td>\n",
       "      <td>0.000000</td>\n",
       "      <td>2.000000</td>\n",
       "      <td>2.000000</td>\n",
       "      <td>3.000000</td>\n",
       "      <td>2.000000</td>\n",
       "    </tr>\n",
       "    <tr>\n",
       "      <th>75%</th>\n",
       "      <td>4.000000</td>\n",
       "      <td>93.256250</td>\n",
       "      <td>0.000000</td>\n",
       "      <td>0.000000</td>\n",
       "      <td>38.000000</td>\n",
       "      <td>1464.157214</td>\n",
       "      <td>0.016813</td>\n",
       "      <td>0.050000</td>\n",
       "      <td>0.000000</td>\n",
       "      <td>0.000000</td>\n",
       "      <td>3.000000</td>\n",
       "      <td>2.000000</td>\n",
       "      <td>4.000000</td>\n",
       "      <td>4.000000</td>\n",
       "    </tr>\n",
       "    <tr>\n",
       "      <th>max</th>\n",
       "      <td>27.000000</td>\n",
       "      <td>3398.750000</td>\n",
       "      <td>24.000000</td>\n",
       "      <td>2549.375000</td>\n",
       "      <td>705.000000</td>\n",
       "      <td>63973.522230</td>\n",
       "      <td>0.200000</td>\n",
       "      <td>0.200000</td>\n",
       "      <td>361.763742</td>\n",
       "      <td>1.000000</td>\n",
       "      <td>8.000000</td>\n",
       "      <td>13.000000</td>\n",
       "      <td>9.000000</td>\n",
       "      <td>20.000000</td>\n",
       "    </tr>\n",
       "  </tbody>\n",
       "</table>\n",
       "</div>"
      ],
      "text/plain": [
       "       Administrative  Administrative_Duration  Informational  \\\n",
       "count    12330.000000             12330.000000   12330.000000   \n",
       "mean         2.315166                80.818611       0.503569   \n",
       "std          3.321784               176.779107       1.270156   \n",
       "min          0.000000                 0.000000       0.000000   \n",
       "25%          0.000000                 0.000000       0.000000   \n",
       "50%          1.000000                 7.500000       0.000000   \n",
       "75%          4.000000                93.256250       0.000000   \n",
       "max         27.000000              3398.750000      24.000000   \n",
       "\n",
       "       Informational_Duration  ProductRelated  ProductRelated_Duration  \\\n",
       "count            12330.000000    12330.000000             12330.000000   \n",
       "mean                34.472398       31.731468              1194.746220   \n",
       "std                140.749294       44.475503              1913.669288   \n",
       "min                  0.000000        0.000000                 0.000000   \n",
       "25%                  0.000000        7.000000               184.137500   \n",
       "50%                  0.000000       18.000000               598.936905   \n",
       "75%                  0.000000       38.000000              1464.157214   \n",
       "max               2549.375000      705.000000             63973.522230   \n",
       "\n",
       "        BounceRates     ExitRates    PageValues    SpecialDay  \\\n",
       "count  12330.000000  12330.000000  12330.000000  12330.000000   \n",
       "mean       0.022191      0.043073      5.889258      0.061427   \n",
       "std        0.048488      0.048597     18.568437      0.198917   \n",
       "min        0.000000      0.000000      0.000000      0.000000   \n",
       "25%        0.000000      0.014286      0.000000      0.000000   \n",
       "50%        0.003112      0.025156      0.000000      0.000000   \n",
       "75%        0.016813      0.050000      0.000000      0.000000   \n",
       "max        0.200000      0.200000    361.763742      1.000000   \n",
       "\n",
       "       OperatingSystems       Browser        Region   TrafficType  \n",
       "count      12330.000000  12330.000000  12330.000000  12330.000000  \n",
       "mean           2.124006      2.357097      3.147364      4.069586  \n",
       "std            0.911325      1.717277      2.401591      4.025169  \n",
       "min            1.000000      1.000000      1.000000      1.000000  \n",
       "25%            2.000000      2.000000      1.000000      2.000000  \n",
       "50%            2.000000      2.000000      3.000000      2.000000  \n",
       "75%            3.000000      2.000000      4.000000      4.000000  \n",
       "max            8.000000     13.000000      9.000000     20.000000  "
      ]
     },
     "execution_count": 7,
     "metadata": {},
     "output_type": "execute_result"
    }
   ],
   "source": [
    "df.describe() #Statistical Summary of columns"
   ]
  },
  {
   "cell_type": "code",
   "execution_count": 8,
   "id": "ddbcfe73-ec21-4a02-a0a8-64500390b575",
   "metadata": {},
   "outputs": [
    {
     "name": "stdout",
     "output_type": "stream",
     "text": [
      "<class 'pandas.core.frame.DataFrame'>\n",
      "RangeIndex: 12330 entries, 0 to 12329\n",
      "Data columns (total 18 columns):\n",
      " #   Column                   Non-Null Count  Dtype  \n",
      "---  ------                   --------------  -----  \n",
      " 0   Administrative           12330 non-null  int64  \n",
      " 1   Administrative_Duration  12330 non-null  float64\n",
      " 2   Informational            12330 non-null  int64  \n",
      " 3   Informational_Duration   12330 non-null  float64\n",
      " 4   ProductRelated           12330 non-null  int64  \n",
      " 5   ProductRelated_Duration  12330 non-null  float64\n",
      " 6   BounceRates              12330 non-null  float64\n",
      " 7   ExitRates                12330 non-null  float64\n",
      " 8   PageValues               12330 non-null  float64\n",
      " 9   SpecialDay               12330 non-null  float64\n",
      " 10  Month                    12330 non-null  object \n",
      " 11  OperatingSystems         12330 non-null  int64  \n",
      " 12  Browser                  12330 non-null  int64  \n",
      " 13  Region                   12330 non-null  int64  \n",
      " 14  TrafficType              12330 non-null  int64  \n",
      " 15  VisitorType              12330 non-null  object \n",
      " 16  Weekend                  12330 non-null  bool   \n",
      " 17  Revenue                  12330 non-null  bool   \n",
      "dtypes: bool(2), float64(7), int64(7), object(2)\n",
      "memory usage: 1.5+ MB\n"
     ]
    }
   ],
   "source": [
    "## Observing different feature types present in the data (dataframe summary)\n",
    "df.info()"
   ]
  },
  {
   "cell_type": "markdown",
   "id": "ddd83a92-1ff5-44e7-b53e-994684bb55b9",
   "metadata": {},
   "source": [
    "# Cleaning the dataset "
   ]
  },
  {
   "cell_type": "code",
   "execution_count": 9,
   "id": "2af798fc-8431-45ba-9063-734e6ba21b22",
   "metadata": {},
   "outputs": [],
   "source": [
    "df.columns = [s.strip().replace(' ', '_') for s in df.columns] #replacing colums names which has spaces with the \"_\""
   ]
  },
  {
   "cell_type": "markdown",
   "id": "5e92df50-ca18-4327-b96f-27cfa5a06666",
   "metadata": {},
   "source": [
    "### Here, we've added an underscore between each space to make the column names more accessible and trustworthy. This will look better and be more suitable."
   ]
  },
  {
   "cell_type": "code",
   "execution_count": 10,
   "id": "4d28bcd7",
   "metadata": {},
   "outputs": [
    {
     "data": {
      "text/plain": [
       "Administrative             0\n",
       "Administrative_Duration    0\n",
       "Informational              0\n",
       "Informational_Duration     0\n",
       "ProductRelated             0\n",
       "ProductRelated_Duration    0\n",
       "BounceRates                0\n",
       "ExitRates                  0\n",
       "PageValues                 0\n",
       "SpecialDay                 0\n",
       "Month                      0\n",
       "OperatingSystems           0\n",
       "Browser                    0\n",
       "Region                     0\n",
       "TrafficType                0\n",
       "VisitorType                0\n",
       "Weekend                    0\n",
       "Revenue                    0\n",
       "dtype: int64"
      ]
     },
     "execution_count": 10,
     "metadata": {},
     "output_type": "execute_result"
    }
   ],
   "source": [
    "np.sum(df.isnull())"
   ]
  },
  {
   "cell_type": "code",
   "execution_count": 11,
   "id": "a2873095-3490-4369-ae52-1934d7a0b68f",
   "metadata": {},
   "outputs": [
    {
     "data": {
      "text/plain": [
       "Administrative             0\n",
       "Administrative_Duration    0\n",
       "Informational              0\n",
       "Informational_Duration     0\n",
       "ProductRelated             0\n",
       "ProductRelated_Duration    0\n",
       "BounceRates                0\n",
       "ExitRates                  0\n",
       "PageValues                 0\n",
       "SpecialDay                 0\n",
       "Month                      0\n",
       "OperatingSystems           0\n",
       "Browser                    0\n",
       "Region                     0\n",
       "TrafficType                0\n",
       "VisitorType                0\n",
       "Weekend                    0\n",
       "Revenue                    0\n",
       "dtype: int64"
      ]
     },
     "execution_count": 11,
     "metadata": {},
     "output_type": "execute_result"
    }
   ],
   "source": [
    "df.isna().sum() #Checking for null values"
   ]
  },
  {
   "cell_type": "markdown",
   "id": "be52ba92-4736-4d95-ba3a-16684121eb80",
   "metadata": {},
   "source": [
    "#### From the above output, we could see that We do not have any NA values in dataset."
   ]
  },
  {
   "cell_type": "code",
   "execution_count": 12,
   "id": "97f2128b-b449-4a52-a864-f026830a1b1b",
   "metadata": {},
   "outputs": [
    {
     "data": {
      "text/plain": [
       "Administrative               int64\n",
       "Administrative_Duration    float64\n",
       "Informational                int64\n",
       "Informational_Duration     float64\n",
       "ProductRelated               int64\n",
       "ProductRelated_Duration    float64\n",
       "BounceRates                float64\n",
       "ExitRates                  float64\n",
       "PageValues                 float64\n",
       "SpecialDay                 float64\n",
       "Month                       object\n",
       "OperatingSystems             int64\n",
       "Browser                      int64\n",
       "Region                       int64\n",
       "TrafficType                  int64\n",
       "VisitorType                 object\n",
       "Weekend                       bool\n",
       "Revenue                       bool\n",
       "dtype: object"
      ]
     },
     "execution_count": 12,
     "metadata": {},
     "output_type": "execute_result"
    }
   ],
   "source": [
    "df.dtypes"
   ]
  },
  {
   "cell_type": "code",
   "execution_count": 13,
   "id": "d5a50ee2",
   "metadata": {},
   "outputs": [
    {
     "data": {
      "text/plain": [
       "<seaborn.axisgrid.FacetGrid at 0x1a95e758310>"
      ]
     },
     "execution_count": 13,
     "metadata": {},
     "output_type": "execute_result"
    },
    {
     "data": {
      "image/png": "[encoded data removed]",
      "text/plain": [
       "<Figure size 471.75x360 with 1 Axes>"
      ]
     },
     "metadata": {
      "needs_background": "light"
     },
     "output_type": "display_data"
    }
   ],
   "source": [
    "df1 = pd.melt(df[['ProductRelated','Administrative','Informational','Revenue']], id_vars='Revenue', var_name=\"Type\", value_name=\"Count\")\n",
    "df1\n",
    "sns.catplot(x='Revenue', y='Count', hue='Type', data=df1, kind='bar')\n",
    "\n",
    "\n",
    "#Customers visited ProductRelated web page more as compared to Administrative and Informational.\n",
    "#At this point of visual EDA it is becoming seemingly clear that Admin page is HOME page, Informational is CONTACT US\n",
    "#and Product related is the actual webpage for the product in interest. This exclusive info was not provided in the dataset.\n"
   ]
  },
  {
   "cell_type": "code",
   "execution_count": 14,
   "id": "fdfc7240",
   "metadata": {},
   "outputs": [
    {
     "data": {
      "text/html": [
       "<div>\n",
       "<style scoped>\n",
       "    .dataframe tbody tr th:only-of-type {\n",
       "        vertical-align: middle;\n",
       "    }\n",
       "\n",
       "    .dataframe tbody tr th {\n",
       "        vertical-align: top;\n",
       "    }\n",
       "\n",
       "    .dataframe thead th {\n",
       "        text-align: right;\n",
       "    }\n",
       "</style>\n",
       "<table border=\"1\" class=\"dataframe\">\n",
       "  <thead>\n",
       "    <tr style=\"text-align: right;\">\n",
       "      <th></th>\n",
       "      <th>Administrative</th>\n",
       "      <th>Informational</th>\n",
       "      <th>ProductRelated</th>\n",
       "    </tr>\n",
       "    <tr>\n",
       "      <th>Revenue</th>\n",
       "      <th></th>\n",
       "      <th></th>\n",
       "      <th></th>\n",
       "    </tr>\n",
       "  </thead>\n",
       "  <tbody>\n",
       "    <tr>\n",
       "      <th>False</th>\n",
       "      <td>2.117732</td>\n",
       "      <td>0.451833</td>\n",
       "      <td>28.714642</td>\n",
       "    </tr>\n",
       "    <tr>\n",
       "      <th>True</th>\n",
       "      <td>3.393606</td>\n",
       "      <td>0.786164</td>\n",
       "      <td>48.210168</td>\n",
       "    </tr>\n",
       "  </tbody>\n",
       "</table>\n",
       "</div>"
      ],
      "text/plain": [
       "         Administrative  Informational  ProductRelated\n",
       "Revenue                                               \n",
       "False          2.117732       0.451833       28.714642\n",
       "True           3.393606       0.786164       48.210168"
      ]
     },
     "execution_count": 14,
     "metadata": {},
     "output_type": "execute_result"
    }
   ],
   "source": [
    "#Number of pages visited: Administrative, Informational, ProductRelated\n",
    "#Percentages of webpages visited\n",
    "\n",
    "page_time_cols = [\"AdministrativeDuration\",\"InformationalDuration\",\"ProductRelatedDuration\"]\n",
    "page_count_cols = [\"Administrative\",\"Informational\",\"ProductRelated\"]\n",
    "page_count = df[page_count_cols].groupby(df.Revenue).mean()\n",
    "page_count"
   ]
  },
  {
   "cell_type": "code",
   "execution_count": 15,
   "id": "3541bbbf",
   "metadata": {},
   "outputs": [
    {
     "data": {
      "image/png": "[encoded data removed]",
      "text/plain": [
       "<Figure size 864x288 with 2 Axes>"
      ]
     },
     "metadata": {},
     "output_type": "display_data"
    }
   ],
   "source": [
    "plt.figure(figsize=(12, 4))\n",
    "                   \n",
    "plt.subplot(1,2,1)\n",
    "plt.pie(page_count.iloc[0,:], labels=page_count.columns,\n",
    "        autopct='%1.1f%%', shadow=False, \n",
    "        colors=['green', 'coral', 'pink'])\n",
    "plt.axis('equal')\n",
    "plt.title('Complete transaction: NO')\n",
    "\n",
    "plt.subplot(1,2,2)\n",
    "plt.pie(page_count.iloc[1,:], labels=page_count.columns,\n",
    "        autopct='%1.1f%%', shadow=False, \n",
    "        colors=['green', 'coral', 'pink'])\n",
    "plt.axis('equal')\n",
    "plt.title('Complete transaction: YES')\n",
    "\n",
    "plt.show()\n",
    "\n",
    "\n",
    "#People visit product related pages more rather than Admin or Informational which is obvious\n",
    "#as user intends to purchase rather than just read admin and info pages on the website."
   ]
  },
  {
   "cell_type": "code",
   "execution_count": 16,
   "id": "b471e0f8",
   "metadata": {},
   "outputs": [
    {
     "data": {
      "text/plain": [
       "<matplotlib.legend.Legend at 0x1a95f02fd60>"
      ]
     },
     "execution_count": 16,
     "metadata": {},
     "output_type": "execute_result"
    },
    {
     "data": {
      "image/png": "[encoded data removed]",
      "text/plain": [
       "<Figure size 432x288 with 1 Axes>"
      ]
     },
     "metadata": {
      "needs_background": "light"
     },
     "output_type": "display_data"
    }
   ],
   "source": [
    "#Revenue vs VisitorType\n",
    "ct = pd.crosstab(df.VisitorType,df.Revenue)\n",
    "ct.plot.bar()\n",
    "plt.legend(title='mark')\n",
    "\n",
    "#Inference from below\n",
    "#Most of the customers visiting the website are Returning visistors, contributing to most number of purchases.\n",
    "#About 1/4th of New_visitors made the purchase as compared to ~15 % of Returning visitors."
   ]
  },
  {
   "cell_type": "code",
   "execution_count": 17,
   "id": "70275778",
   "metadata": {},
   "outputs": [
    {
     "data": {
      "text/plain": [
       "<matplotlib.legend.Legend at 0x1a95e749b50>"
      ]
     },
     "execution_count": 17,
     "metadata": {},
     "output_type": "execute_result"
    },
    {
     "data": {
      "image/png": "[encoded data removed]",
      "text/plain": [
       "<Figure size 432x288 with 1 Axes>"
      ]
     },
     "metadata": {
      "needs_background": "light"
     },
     "output_type": "display_data"
    }
   ],
   "source": [
    "#Weekend vs Revenue\n",
    "\n",
    "ct1 = pd.crosstab(df.Weekend,df.Revenue)\n",
    "ct1.plot.bar()\n",
    "plt.legend(title='mark')\n",
    "\n",
    "#It is evident from below that even though the no of visitors in weekdays are more compared to weekends but \n",
    "#there is no significant difference in conversion to Revenue rates."
   ]
  },
  {
   "cell_type": "code",
   "execution_count": 18,
   "id": "b2af4d4b",
   "metadata": {},
   "outputs": [
    {
     "data": {
      "text/plain": [
       "<matplotlib.legend.Legend at 0x1a959da4a00>"
      ]
     },
     "execution_count": 18,
     "metadata": {},
     "output_type": "execute_result"
    },
    {
     "data": {
      "image/png": "[encoded data removed]",
      "text/plain": [
       "<Figure size 432x288 with 1 Axes>"
      ]
     },
     "metadata": {
      "needs_background": "light"
     },
     "output_type": "display_data"
    }
   ],
   "source": [
    "#Month vs Revenue\n",
    "\n",
    "ct2 = pd.crosstab(df.Month,df.Revenue)\n",
    "ct2.plot.bar()\n",
    "plt.legend(title='mark')\n",
    "\n",
    "#Insights from below\n",
    "#Most of the customers visited the website in the month of May and Nov with pretty much similar conversion to Revenue ratio.\n",
    "#Highest number of purchases have been made in the month of November.\n",
    "#Website is least visited by customers in the month of Feb and also the purchase is negligible as compared to other months."
   ]
  },
  {
   "cell_type": "code",
   "execution_count": 19,
   "id": "481a584a",
   "metadata": {},
   "outputs": [
    {
     "data": {
      "text/plain": [
       "<matplotlib.legend.Legend at 0x1a95f00e160>"
      ]
     },
     "execution_count": 19,
     "metadata": {},
     "output_type": "execute_result"
    },
    {
     "data": {
      "image/png": "[encoded data removed]",
      "text/plain": [
       "<Figure size 432x288 with 1 Axes>"
      ]
     },
     "metadata": {
      "needs_background": "light"
     },
     "output_type": "display_data"
    }
   ],
   "source": [
    "#Region vs Revenue\n",
    "\n",
    "ct4 = pd.crosstab(df.Region,df.Revenue)\n",
    "ct4.plot.bar()\n",
    "plt.legend(title='mark')\n",
    "\n",
    "#Most revenue is generated from Region 1 followed by region 3.\n",
    "#Regions 5 and 8 have negligble contribution in revenue generation."
   ]
  },
  {
   "cell_type": "code",
   "execution_count": 20,
   "id": "ad19e6b5",
   "metadata": {},
   "outputs": [
    {
     "data": {
      "text/plain": [
       "<matplotlib.legend.Legend at 0x1a959e84f10>"
      ]
     },
     "execution_count": 20,
     "metadata": {},
     "output_type": "execute_result"
    },
    {
     "data": {
      "image/png": "[encoded data removed]",
      "text/plain": [
       "<Figure size 432x288 with 1 Axes>"
      ]
     },
     "metadata": {
      "needs_background": "light"
     },
     "output_type": "display_data"
    }
   ],
   "source": [
    "#TrafficType vs Revenue\n",
    "\n",
    "ct5 = pd.crosstab(df.TrafficType,df.Revenue)\n",
    "ct5.plot.bar()\n",
    "plt.legend(title='mark')\n",
    "\n",
    "#Most revenue is generated by traffic type 2, followed by 1 and 3.\n",
    "#TRafffic type 14-20 have very less contribution to Revenue."
   ]
  },
  {
   "cell_type": "code",
   "execution_count": 21,
   "id": "a7dff2df",
   "metadata": {},
   "outputs": [
    {
     "data": {
      "text/plain": [
       "<matplotlib.legend.Legend at 0x1a959e45820>"
      ]
     },
     "execution_count": 21,
     "metadata": {},
     "output_type": "execute_result"
    },
    {
     "data": {
      "image/png": "[encoded data removed]",
      "text/plain": [
       "<Figure size 432x288 with 1 Axes>"
      ]
     },
     "metadata": {
      "needs_background": "light"
     },
     "output_type": "display_data"
    }
   ],
   "source": [
    "#OS vs REvenue\n",
    "\n",
    "ct6 = pd.crosstab(df.OperatingSystems,df.Revenue)\n",
    "ct6.plot.bar()\n",
    "plt.legend(title='mark')\n",
    "\n",
    "#People using OS type 2 generate majority of revenue."
   ]
  },
  {
   "cell_type": "code",
   "execution_count": 22,
   "id": "7945eb29",
   "metadata": {},
   "outputs": [
    {
     "data": {
      "text/plain": [
       "<matplotlib.legend.Legend at 0x1a959e37d60>"
      ]
     },
     "execution_count": 22,
     "metadata": {},
     "output_type": "execute_result"
    },
    {
     "data": {
      "image/png": "[encoded data removed]",
      "text/plain": [
       "<Figure size 432x288 with 1 Axes>"
      ]
     },
     "metadata": {
      "needs_background": "light"
     },
     "output_type": "display_data"
    }
   ],
   "source": [
    "#Browser vs Revenue\n",
    "\n",
    "\n",
    "ct7 = pd.crosstab(df.Browser,df.Revenue)\n",
    "ct7.plot.bar()\n",
    "plt.legend(title='mark')\n",
    "\n",
    "#Most revenue is generated from browser 2 and 1.No contribution from browsers 3,9,11,12,13."
   ]
  },
  {
   "cell_type": "code",
   "execution_count": 23,
   "id": "1fa334c0",
   "metadata": {},
   "outputs": [
    {
     "data": {
      "text/plain": [
       "Text(0.5, 1.0, 'Monthly visits of the users on the website')"
      ]
     },
     "execution_count": 23,
     "metadata": {},
     "output_type": "execute_result"
    },
    {
     "data": {
      "image/png": "[encoded data removed]",
      "text/plain": [
       "<Figure size 432x288 with 1 Axes>"
      ]
     },
     "metadata": {
      "needs_background": "light"
     },
     "output_type": "display_data"
    }
   ],
   "source": [
    "#Visits to the website on each month\n",
    "\n",
    "sns.countplot(x=\"Month\",data=df)\n",
    "plt.title(\"Monthly visits of the users on the website\")\n",
    "\n",
    "#People visited the website in the month of May and Nov the most."
   ]
  },
  {
   "cell_type": "code",
   "execution_count": 24,
   "id": "91d926f4",
   "metadata": {},
   "outputs": [
    {
     "name": "stdout",
     "output_type": "stream",
     "text": [
      "VisitorType  New_Visitor  Other  Returning_Visitor\n",
      "Revenue                                           \n",
      "False               1272     69               9081\n",
      "True                 422     16               1470\n"
     ]
    }
   ],
   "source": [
    "#Demographics of visitors: VisitorType, Region\n",
    "\n",
    "freq1 = df.VisitorType.groupby(df.Revenue).value_counts()\n",
    "freq1 = freq1.unstack(level='Revenue').fillna(0).transpose()\n",
    "print(freq1)"
   ]
  },
  {
   "cell_type": "code",
   "execution_count": 25,
   "id": "ff38fe58",
   "metadata": {},
   "outputs": [
    {
     "data": {
      "image/png": "[encoded data removed]",
      "text/plain": [
       "<Figure size 864x288 with 2 Axes>"
      ]
     },
     "metadata": {},
     "output_type": "display_data"
    }
   ],
   "source": [
    "plt.figure(figsize=(12, 4))\n",
    "                   \n",
    "plt.subplot(1,2,1)\n",
    "plt.pie(freq1.iloc[0,:], labels=freq1.columns,\n",
    "        autopct='%1.1f%%', shadow=False, \n",
    "        colors=['green', 'coral', 'pink'])\n",
    "plt.axis('equal')\n",
    "plt.title('Complete transaction: NO')\n",
    "\n",
    "plt.subplot(1,2,2)\n",
    "plt.pie(freq1.iloc[1,:], labels=freq1.columns,\n",
    "        autopct='%1.1f%%', shadow=False, \n",
    "        colors=['green', 'coral', 'pink'])\n",
    "plt.axis('equal')\n",
    "plt.title('Complete transaction: YES')\n",
    "\n",
    "plt.show()\n",
    "\n",
    "#New visitors take up a larger percentage in those who complete purchase,\n",
    "#while there are more returning visitors among those who do not complete the purchase."
   ]
  },
  {
   "cell_type": "code",
   "execution_count": 26,
   "id": "e9bf4601",
   "metadata": {},
   "outputs": [
    {
     "data": {
      "image/png": "[encoded data removed]",
      "text/plain": [
       "<Figure size 1440x1440 with 2 Axes>"
      ]
     },
     "metadata": {
      "needs_background": "light"
     },
     "output_type": "display_data"
    }
   ],
   "source": [
    "#create the correlation matrix heat map\n",
    "#Calculate the correlation coefficients\n",
    "\n",
    "plt.figure(figsize=(20,20))\n",
    "sns.heatmap(df.corr(),linewidths=.1,cmap=\"YlGnBu\", annot=True)\n",
    "plt.yticks(rotation=0)\n",
    "plt.title('Co-relation Matrix')\n",
    "plt.show()"
   ]
  },
  {
   "cell_type": "code",
   "execution_count": 27,
   "id": "d4f02d31",
   "metadata": {},
   "outputs": [
    {
     "name": "stdout",
     "output_type": "stream",
     "text": [
      "Empty DataFrame\n",
      "Columns: []\n",
      "Index: []\n"
     ]
    }
   ],
   "source": [
    "#Checking which columns and rows contain missing/NA values\n",
    "pd.set_option('display.max_rows', 25)\n",
    "null_columns=df.columns[df.isnull().any()]\n",
    "print(df.loc[df.isnull().any(axis=1)][null_columns])"
   ]
  },
  {
   "cell_type": "markdown",
   "id": "23fc445e-26c8-47f1-a186-718124ac1382",
   "metadata": {},
   "source": [
    "# Transforming the data"
   ]
  },
  {
   "cell_type": "code",
   "execution_count": 28,
   "id": "a106949b-d48d-4836-a31e-3950cec3c2b0",
   "metadata": {},
   "outputs": [],
   "source": [
    "Category_Features=['VisitorType','Month']"
   ]
  },
  {
   "cell_type": "markdown",
   "id": "2195f68c-18b9-4c90-9eb9-c166b67c985c",
   "metadata": {},
   "source": [
    "#### In order to make it possible to discover the relationship between the variables, we are combining all the object type variables into a list and changing their datatype to category."
   ]
  },
  {
   "cell_type": "code",
   "execution_count": 29,
   "id": "e1565fb9-a74c-44db-862f-4e82a23f4d22",
   "metadata": {},
   "outputs": [
    {
     "data": {
      "text/plain": [
       "Administrative                int64\n",
       "Administrative_Duration     float64\n",
       "Informational                 int64\n",
       "Informational_Duration      float64\n",
       "ProductRelated                int64\n",
       "ProductRelated_Duration     float64\n",
       "BounceRates                 float64\n",
       "ExitRates                   float64\n",
       "PageValues                  float64\n",
       "SpecialDay                  float64\n",
       "Month                      category\n",
       "OperatingSystems              int64\n",
       "Browser                       int64\n",
       "Region                        int64\n",
       "TrafficType                   int64\n",
       "VisitorType                category\n",
       "Weekend                        bool\n",
       "Revenue                    category\n",
       "dtype: object"
      ]
     },
     "execution_count": 29,
     "metadata": {},
     "output_type": "execute_result"
    }
   ],
   "source": [
    "#lopping through every category.\n",
    "for i in Category_Features+['Revenue']:\n",
    "    df[i] = df[i].astype('category') #Casting from object class to category class.\n",
    "df.dtypes #Cheching all columns Data types."
   ]
  },
  {
   "cell_type": "code",
   "execution_count": 30,
   "id": "39c3c752-6ad0-4163-909c-578466cb7cb4",
   "metadata": {},
   "outputs": [
    {
     "data": {
      "text/plain": [
       "Administrative                int64\n",
       "Administrative_Duration     float64\n",
       "Informational                 int64\n",
       "Informational_Duration      float64\n",
       "ProductRelated                int64\n",
       "ProductRelated_Duration     float64\n",
       "BounceRates                 float64\n",
       "ExitRates                   float64\n",
       "PageValues                  float64\n",
       "SpecialDay                  float64\n",
       "Month                       float64\n",
       "OperatingSystems              int64\n",
       "Browser                       int64\n",
       "Region                        int64\n",
       "TrafficType                   int64\n",
       "VisitorType                 float64\n",
       "Weekend                        bool\n",
       "Revenue                    category\n",
       "dtype: object"
      ]
     },
     "execution_count": 30,
     "metadata": {},
     "output_type": "execute_result"
    }
   ],
   "source": [
    "from sklearn.preprocessing import OrdinalEncoder\n",
    "enc = OrdinalEncoder() #Creating instace of OrdinalEncoder.\n",
    "for i in Category_Features:\n",
    "    df[i]=enc.fit_transform(df[[i]]) #Coverting to numerical.\n",
    "df.dtypes #Checking all columns Data types.\n"
   ]
  },
  {
   "cell_type": "markdown",
   "id": "ae924773-2840-40e9-b59b-d0fc8b2164c7",
   "metadata": {},
   "source": [
    "#### Here, we will perform the ordinal encoding on the predictor categorical variable to encode them to numerical."
   ]
  },
  {
   "cell_type": "code",
   "execution_count": 31,
   "id": "365ad96e-9097-4014-8201-8fbee1a02626",
   "metadata": {},
   "outputs": [
    {
     "data": {
      "text/plain": [
       "Administrative               int64\n",
       "Administrative_Duration    float64\n",
       "Informational                int64\n",
       "Informational_Duration     float64\n",
       "ProductRelated               int64\n",
       "ProductRelated_Duration    float64\n",
       "BounceRates                float64\n",
       "ExitRates                  float64\n",
       "PageValues                 float64\n",
       "SpecialDay                 float64\n",
       "Month                      float64\n",
       "OperatingSystems             int64\n",
       "Browser                      int64\n",
       "Region                       int64\n",
       "TrafficType                  int64\n",
       "VisitorType                float64\n",
       "Weekend                       bool\n",
       "Revenue                      int32\n",
       "dtype: object"
      ]
     },
     "execution_count": 31,
     "metadata": {},
     "output_type": "execute_result"
    }
   ],
   "source": [
    "from sklearn.preprocessing import LabelEncoder\n",
    "target = 'Revenue'\n",
    "predictors = list(df.columns) #Assigning Predictors and coverting pandas series object to list.\n",
    "predictors.remove(target)\n",
    "#LableEncoding for target variable\n",
    "enc = LabelEncoder() \n",
    "df[target]=enc.fit_transform(df[target])\n",
    "df.dtypes"
   ]
  },
  {
   "cell_type": "markdown",
   "id": "ce2e8a3f-7786-4ca3-aea2-ef517ef9b2e5",
   "metadata": {},
   "source": [
    "#### Performing Label encoding on the target variables to turn the categorical variables to numerical."
   ]
  },
  {
   "cell_type": "markdown",
   "id": "ac056cc4-a4a3-4c3c-899e-4490359ac012",
   "metadata": {},
   "source": [
    "# Splitting the data into training and testing validation sets"
   ]
  },
  {
   "cell_type": "code",
   "execution_count": 32,
   "id": "82afd83e-fe23-4f57-9670-05810bf5a79e",
   "metadata": {},
   "outputs": [],
   "source": [
    "X=df[predictors]\n",
    "y=df[target]\n",
    "train_X, test_X, train_y, test_y = train_test_split(X, y, test_size=0.3, random_state=0)"
   ]
  },
  {
   "cell_type": "markdown",
   "id": "5aaad939-f1c9-4e09-a9b9-c86486345683",
   "metadata": {},
   "source": [
    "### Here, the data are divided into training and test groups. 70% of the population's data are used for training, while the remaining 30% are used for testing."
   ]
  },
  {
   "cell_type": "code",
   "execution_count": 33,
   "id": "8dd2eb65",
   "metadata": {},
   "outputs": [
    {
     "data": {
      "text/plain": [
       "<AxesSubplot:xlabel='Revenue', ylabel='count'>"
      ]
     },
     "execution_count": 33,
     "metadata": {},
     "output_type": "execute_result"
    },
    {
     "data": {
      "image/png": "[encoded data removed]",
      "text/plain": [
       "<Figure size 432x288 with 1 Axes>"
      ]
     },
     "metadata": {
      "needs_background": "light"
     },
     "output_type": "display_data"
    }
   ],
   "source": [
    "#Checking share of completed purchases\n",
    "\n",
    "sns.countplot(data=df,x=\"Revenue\")\n",
    "\n",
    "#roughly around 20% of the sessions only resulted in completed purachase.\n",
    "#imbalanced dataset might have to do something about it before model building."
   ]
  },
  {
   "cell_type": "markdown",
   "id": "03bc28a9",
   "metadata": {},
   "source": [
    "### We undersampled the data to prevent discrepancies between observations for the target since the data are not balanced with respect to the target variable."
   ]
  },
  {
   "cell_type": "markdown",
   "id": "65a62abd-77ae-45e0-8024-a1cb6c76d283",
   "metadata": {},
   "source": [
    "# Data Balancing"
   ]
  },
  {
   "cell_type": "code",
   "execution_count": 34,
   "id": "58e120a4-2d58-41d0-bc27-ee4621bceea8",
   "metadata": {},
   "outputs": [
    {
     "data": {
      "text/plain": [
       "0    1286\n",
       "1    1286\n",
       "Name: Revenue, dtype: int64"
      ]
     },
     "execution_count": 34,
     "metadata": {},
     "output_type": "execute_result"
    }
   ],
   "source": [
    "from imblearn.under_sampling import NearMiss\n",
    "undersample = NearMiss(version=1, n_neighbors=3)\n",
    "train_X, train_y = undersample.fit_resample(train_X, train_y)\n",
    "train_y.value_counts()"
   ]
  },
  {
   "cell_type": "code",
   "execution_count": 35,
   "id": "84d35f42",
   "metadata": {},
   "outputs": [],
   "source": [
    "from sklearn.model_selection import train_test_split # For splitting the data in to training and testing we import this library.\n",
    "train_df,test_df = train_test_split(df,test_size=0.3,random_state=1) # Here we are splitting the data in to 70 percent in to training set and 30 percent in to testing set"
   ]
  },
  {
   "cell_type": "code",
   "execution_count": 36,
   "id": "0abe743c",
   "metadata": {},
   "outputs": [],
   "source": [
    "train_df_y=train_df['Revenue']\n",
    "train_df_x= train_df.drop(columns=['Revenue'])"
   ]
  },
  {
   "cell_type": "code",
   "execution_count": 37,
   "id": "b8c564ae",
   "metadata": {},
   "outputs": [
    {
     "data": {
      "text/html": [
       "<div>\n",
       "<style scoped>\n",
       "    .dataframe tbody tr th:only-of-type {\n",
       "        vertical-align: middle;\n",
       "    }\n",
       "\n",
       "    .dataframe tbody tr th {\n",
       "        vertical-align: top;\n",
       "    }\n",
       "\n",
       "    .dataframe thead th {\n",
       "        text-align: right;\n",
       "    }\n",
       "</style>\n",
       "<table border=\"1\" class=\"dataframe\">\n",
       "  <thead>\n",
       "    <tr style=\"text-align: right;\">\n",
       "      <th></th>\n",
       "      <th>Administrative</th>\n",
       "      <th>Administrative_Duration</th>\n",
       "      <th>Informational</th>\n",
       "      <th>Informational_Duration</th>\n",
       "      <th>ProductRelated</th>\n",
       "      <th>ProductRelated_Duration</th>\n",
       "      <th>BounceRates</th>\n",
       "      <th>ExitRates</th>\n",
       "      <th>PageValues</th>\n",
       "      <th>SpecialDay</th>\n",
       "      <th>Month</th>\n",
       "      <th>OperatingSystems</th>\n",
       "      <th>Browser</th>\n",
       "      <th>Region</th>\n",
       "      <th>TrafficType</th>\n",
       "      <th>VisitorType</th>\n",
       "      <th>Weekend</th>\n",
       "      <th>Revenue</th>\n",
       "    </tr>\n",
       "  </thead>\n",
       "  <tbody>\n",
       "    <tr>\n",
       "      <th>0</th>\n",
       "      <td>0</td>\n",
       "      <td>0.0</td>\n",
       "      <td>0</td>\n",
       "      <td>0.0</td>\n",
       "      <td>14</td>\n",
       "      <td>115.666667</td>\n",
       "      <td>0.057143</td>\n",
       "      <td>0.076190</td>\n",
       "      <td>0.0</td>\n",
       "      <td>0.0</td>\n",
       "      <td>6.0</td>\n",
       "      <td>3</td>\n",
       "      <td>2</td>\n",
       "      <td>1</td>\n",
       "      <td>13</td>\n",
       "      <td>2.0</td>\n",
       "      <td>False</td>\n",
       "      <td>0</td>\n",
       "    </tr>\n",
       "    <tr>\n",
       "      <th>1</th>\n",
       "      <td>0</td>\n",
       "      <td>0.0</td>\n",
       "      <td>0</td>\n",
       "      <td>0.0</td>\n",
       "      <td>9</td>\n",
       "      <td>1217.200000</td>\n",
       "      <td>0.033333</td>\n",
       "      <td>0.040741</td>\n",
       "      <td>0.0</td>\n",
       "      <td>0.0</td>\n",
       "      <td>6.0</td>\n",
       "      <td>1</td>\n",
       "      <td>1</td>\n",
       "      <td>5</td>\n",
       "      <td>4</td>\n",
       "      <td>2.0</td>\n",
       "      <td>False</td>\n",
       "      <td>0</td>\n",
       "    </tr>\n",
       "    <tr>\n",
       "      <th>2</th>\n",
       "      <td>2</td>\n",
       "      <td>180.0</td>\n",
       "      <td>3</td>\n",
       "      <td>258.0</td>\n",
       "      <td>61</td>\n",
       "      <td>5233.590476</td>\n",
       "      <td>0.009091</td>\n",
       "      <td>0.035240</td>\n",
       "      <td>0.0</td>\n",
       "      <td>0.0</td>\n",
       "      <td>6.0</td>\n",
       "      <td>2</td>\n",
       "      <td>2</td>\n",
       "      <td>4</td>\n",
       "      <td>4</td>\n",
       "      <td>2.0</td>\n",
       "      <td>False</td>\n",
       "      <td>0</td>\n",
       "    </tr>\n",
       "    <tr>\n",
       "      <th>3</th>\n",
       "      <td>0</td>\n",
       "      <td>0.0</td>\n",
       "      <td>0</td>\n",
       "      <td>0.0</td>\n",
       "      <td>1</td>\n",
       "      <td>0.000000</td>\n",
       "      <td>0.200000</td>\n",
       "      <td>0.200000</td>\n",
       "      <td>0.0</td>\n",
       "      <td>0.0</td>\n",
       "      <td>5.0</td>\n",
       "      <td>1</td>\n",
       "      <td>1</td>\n",
       "      <td>8</td>\n",
       "      <td>1</td>\n",
       "      <td>2.0</td>\n",
       "      <td>False</td>\n",
       "      <td>0</td>\n",
       "    </tr>\n",
       "    <tr>\n",
       "      <th>4</th>\n",
       "      <td>0</td>\n",
       "      <td>0.0</td>\n",
       "      <td>0</td>\n",
       "      <td>0.0</td>\n",
       "      <td>2</td>\n",
       "      <td>69.000000</td>\n",
       "      <td>0.000000</td>\n",
       "      <td>0.050000</td>\n",
       "      <td>0.0</td>\n",
       "      <td>0.0</td>\n",
       "      <td>6.0</td>\n",
       "      <td>3</td>\n",
       "      <td>2</td>\n",
       "      <td>3</td>\n",
       "      <td>3</td>\n",
       "      <td>2.0</td>\n",
       "      <td>False</td>\n",
       "      <td>0</td>\n",
       "    </tr>\n",
       "  </tbody>\n",
       "</table>\n",
       "</div>"
      ],
      "text/plain": [
       "   Administrative  Administrative_Duration  Informational  \\\n",
       "0               0                      0.0              0   \n",
       "1               0                      0.0              0   \n",
       "2               2                    180.0              3   \n",
       "3               0                      0.0              0   \n",
       "4               0                      0.0              0   \n",
       "\n",
       "   Informational_Duration  ProductRelated  ProductRelated_Duration  \\\n",
       "0                     0.0              14               115.666667   \n",
       "1                     0.0               9              1217.200000   \n",
       "2                   258.0              61              5233.590476   \n",
       "3                     0.0               1                 0.000000   \n",
       "4                     0.0               2                69.000000   \n",
       "\n",
       "   BounceRates  ExitRates  PageValues  SpecialDay  Month  OperatingSystems  \\\n",
       "0     0.057143   0.076190         0.0         0.0    6.0                 3   \n",
       "1     0.033333   0.040741         0.0         0.0    6.0                 1   \n",
       "2     0.009091   0.035240         0.0         0.0    6.0                 2   \n",
       "3     0.200000   0.200000         0.0         0.0    5.0                 1   \n",
       "4     0.000000   0.050000         0.0         0.0    6.0                 3   \n",
       "\n",
       "   Browser  Region  TrafficType  VisitorType  Weekend  Revenue  \n",
       "0        2       1           13          2.0    False        0  \n",
       "1        1       5            4          2.0    False        0  \n",
       "2        2       4            4          2.0    False        0  \n",
       "3        1       8            1          2.0    False        0  \n",
       "4        2       3            3          2.0    False        0  "
      ]
     },
     "execution_count": 37,
     "metadata": {},
     "output_type": "execute_result"
    }
   ],
   "source": [
    "Y_label = 'Revenue' # Target variable\n",
    "X_label = list(df.columns) # Input variables\n",
    "X_label.remove(Y_label)\n",
    "# using random under_sampling for handling data imbalance.\n",
    "import imblearn\n",
    "from imblearn.under_sampling import RandomUnderSampler\n",
    "rand_samp = RandomUnderSampler()\n",
    "ind_X, dep_Y = rand_samp.fit_resample(train_df[X_label],train_df[Y_label])\n",
    "train_df=pd.concat([ind_X,dep_Y],axis=1,join=\"inner\")\n",
    "train_df.head()"
   ]
  },
  {
   "cell_type": "code",
   "execution_count": 38,
   "id": "69cd11fb",
   "metadata": {},
   "outputs": [
    {
     "data": {
      "text/plain": [
       "Text(0.5, 1.0, 'revenue')"
      ]
     },
     "execution_count": 38,
     "metadata": {},
     "output_type": "execute_result"
    },
    {
     "data": {
      "image/png": "[encoded data removed]",
      "text/plain": [
       "<Figure size 432x288 with 1 Axes>"
      ]
     },
     "metadata": {
      "needs_background": "light"
     },
     "output_type": "display_data"
    }
   ],
   "source": [
    "train_df['Revenue'].value_counts().plot(kind='bar').set_title('revenue')"
   ]
  },
  {
   "cell_type": "code",
   "execution_count": 39,
   "id": "c7808141-1876-4f6c-8dfb-858f11ce3f53",
   "metadata": {},
   "outputs": [
    {
     "data": {
      "text/html": [
       "<div>\n",
       "<style scoped>\n",
       "    .dataframe tbody tr th:only-of-type {\n",
       "        vertical-align: middle;\n",
       "    }\n",
       "\n",
       "    .dataframe tbody tr th {\n",
       "        vertical-align: top;\n",
       "    }\n",
       "\n",
       "    .dataframe thead th {\n",
       "        text-align: right;\n",
       "    }\n",
       "</style>\n",
       "<table border=\"1\" class=\"dataframe\">\n",
       "  <thead>\n",
       "    <tr style=\"text-align: right;\">\n",
       "      <th></th>\n",
       "      <th>Administrative</th>\n",
       "      <th>Administrative_Duration</th>\n",
       "      <th>Informational</th>\n",
       "      <th>Informational_Duration</th>\n",
       "      <th>ProductRelated</th>\n",
       "      <th>ProductRelated_Duration</th>\n",
       "      <th>BounceRates</th>\n",
       "      <th>ExitRates</th>\n",
       "      <th>PageValues</th>\n",
       "      <th>SpecialDay</th>\n",
       "      <th>OperatingSystems</th>\n",
       "      <th>Browser</th>\n",
       "      <th>Region</th>\n",
       "      <th>TrafficType</th>\n",
       "      <th>Weekend</th>\n",
       "    </tr>\n",
       "  </thead>\n",
       "  <tbody>\n",
       "    <tr>\n",
       "      <th>0</th>\n",
       "      <td>0</td>\n",
       "      <td>0.000000</td>\n",
       "      <td>0</td>\n",
       "      <td>0.0</td>\n",
       "      <td>12</td>\n",
       "      <td>169.300000</td>\n",
       "      <td>0.000000</td>\n",
       "      <td>0.016667</td>\n",
       "      <td>0.000000</td>\n",
       "      <td>0.0</td>\n",
       "      <td>2</td>\n",
       "      <td>2</td>\n",
       "      <td>3</td>\n",
       "      <td>2</td>\n",
       "      <td>True</td>\n",
       "    </tr>\n",
       "    <tr>\n",
       "      <th>1</th>\n",
       "      <td>0</td>\n",
       "      <td>0.000000</td>\n",
       "      <td>0</td>\n",
       "      <td>0.0</td>\n",
       "      <td>5</td>\n",
       "      <td>75.600000</td>\n",
       "      <td>0.000000</td>\n",
       "      <td>0.000000</td>\n",
       "      <td>0.000000</td>\n",
       "      <td>0.0</td>\n",
       "      <td>1</td>\n",
       "      <td>1</td>\n",
       "      <td>3</td>\n",
       "      <td>4</td>\n",
       "      <td>True</td>\n",
       "    </tr>\n",
       "    <tr>\n",
       "      <th>2</th>\n",
       "      <td>0</td>\n",
       "      <td>0.000000</td>\n",
       "      <td>0</td>\n",
       "      <td>0.0</td>\n",
       "      <td>6</td>\n",
       "      <td>77.000000</td>\n",
       "      <td>0.000000</td>\n",
       "      <td>0.016667</td>\n",
       "      <td>0.000000</td>\n",
       "      <td>0.6</td>\n",
       "      <td>2</td>\n",
       "      <td>2</td>\n",
       "      <td>2</td>\n",
       "      <td>4</td>\n",
       "      <td>False</td>\n",
       "    </tr>\n",
       "    <tr>\n",
       "      <th>3</th>\n",
       "      <td>1</td>\n",
       "      <td>21.200000</td>\n",
       "      <td>0</td>\n",
       "      <td>0.0</td>\n",
       "      <td>0</td>\n",
       "      <td>0.000000</td>\n",
       "      <td>0.050000</td>\n",
       "      <td>0.100000</td>\n",
       "      <td>0.000000</td>\n",
       "      <td>0.0</td>\n",
       "      <td>1</td>\n",
       "      <td>1</td>\n",
       "      <td>1</td>\n",
       "      <td>5</td>\n",
       "      <td>False</td>\n",
       "    </tr>\n",
       "    <tr>\n",
       "      <th>4</th>\n",
       "      <td>0</td>\n",
       "      <td>0.000000</td>\n",
       "      <td>0</td>\n",
       "      <td>0.0</td>\n",
       "      <td>12</td>\n",
       "      <td>168.000000</td>\n",
       "      <td>0.041667</td>\n",
       "      <td>0.063889</td>\n",
       "      <td>0.000000</td>\n",
       "      <td>0.0</td>\n",
       "      <td>2</td>\n",
       "      <td>2</td>\n",
       "      <td>1</td>\n",
       "      <td>1</td>\n",
       "      <td>False</td>\n",
       "    </tr>\n",
       "    <tr>\n",
       "      <th>...</th>\n",
       "      <td>...</td>\n",
       "      <td>...</td>\n",
       "      <td>...</td>\n",
       "      <td>...</td>\n",
       "      <td>...</td>\n",
       "      <td>...</td>\n",
       "      <td>...</td>\n",
       "      <td>...</td>\n",
       "      <td>...</td>\n",
       "      <td>...</td>\n",
       "      <td>...</td>\n",
       "      <td>...</td>\n",
       "      <td>...</td>\n",
       "      <td>...</td>\n",
       "      <td>...</td>\n",
       "    </tr>\n",
       "    <tr>\n",
       "      <th>2567</th>\n",
       "      <td>1</td>\n",
       "      <td>32.333333</td>\n",
       "      <td>1</td>\n",
       "      <td>56.0</td>\n",
       "      <td>62</td>\n",
       "      <td>2414.900000</td>\n",
       "      <td>0.000000</td>\n",
       "      <td>0.002222</td>\n",
       "      <td>30.461587</td>\n",
       "      <td>0.0</td>\n",
       "      <td>2</td>\n",
       "      <td>2</td>\n",
       "      <td>9</td>\n",
       "      <td>2</td>\n",
       "      <td>False</td>\n",
       "    </tr>\n",
       "    <tr>\n",
       "      <th>2568</th>\n",
       "      <td>4</td>\n",
       "      <td>68.666667</td>\n",
       "      <td>0</td>\n",
       "      <td>0.0</td>\n",
       "      <td>14</td>\n",
       "      <td>617.150000</td>\n",
       "      <td>0.000000</td>\n",
       "      <td>0.004444</td>\n",
       "      <td>9.253162</td>\n",
       "      <td>0.0</td>\n",
       "      <td>1</td>\n",
       "      <td>1</td>\n",
       "      <td>6</td>\n",
       "      <td>5</td>\n",
       "      <td>False</td>\n",
       "    </tr>\n",
       "    <tr>\n",
       "      <th>2569</th>\n",
       "      <td>0</td>\n",
       "      <td>0.000000</td>\n",
       "      <td>0</td>\n",
       "      <td>0.0</td>\n",
       "      <td>11</td>\n",
       "      <td>192.450000</td>\n",
       "      <td>0.036364</td>\n",
       "      <td>0.040909</td>\n",
       "      <td>27.315105</td>\n",
       "      <td>0.0</td>\n",
       "      <td>3</td>\n",
       "      <td>2</td>\n",
       "      <td>1</td>\n",
       "      <td>1</td>\n",
       "      <td>True</td>\n",
       "    </tr>\n",
       "    <tr>\n",
       "      <th>2570</th>\n",
       "      <td>3</td>\n",
       "      <td>33.000000</td>\n",
       "      <td>0</td>\n",
       "      <td>0.0</td>\n",
       "      <td>17</td>\n",
       "      <td>386.416667</td>\n",
       "      <td>0.000000</td>\n",
       "      <td>0.010000</td>\n",
       "      <td>0.000000</td>\n",
       "      <td>0.0</td>\n",
       "      <td>2</td>\n",
       "      <td>2</td>\n",
       "      <td>1</td>\n",
       "      <td>2</td>\n",
       "      <td>False</td>\n",
       "    </tr>\n",
       "    <tr>\n",
       "      <th>2571</th>\n",
       "      <td>13</td>\n",
       "      <td>331.983333</td>\n",
       "      <td>5</td>\n",
       "      <td>128.0</td>\n",
       "      <td>202</td>\n",
       "      <td>8217.678753</td>\n",
       "      <td>0.001905</td>\n",
       "      <td>0.013669</td>\n",
       "      <td>3.651726</td>\n",
       "      <td>0.0</td>\n",
       "      <td>2</td>\n",
       "      <td>2</td>\n",
       "      <td>3</td>\n",
       "      <td>10</td>\n",
       "      <td>True</td>\n",
       "    </tr>\n",
       "  </tbody>\n",
       "</table>\n",
       "<p>2572 rows × 15 columns</p>\n",
       "</div>"
      ],
      "text/plain": [
       "      Administrative  Administrative_Duration  Informational  \\\n",
       "0                  0                 0.000000              0   \n",
       "1                  0                 0.000000              0   \n",
       "2                  0                 0.000000              0   \n",
       "3                  1                21.200000              0   \n",
       "4                  0                 0.000000              0   \n",
       "...              ...                      ...            ...   \n",
       "2567               1                32.333333              1   \n",
       "2568               4                68.666667              0   \n",
       "2569               0                 0.000000              0   \n",
       "2570               3                33.000000              0   \n",
       "2571              13               331.983333              5   \n",
       "\n",
       "      Informational_Duration  ProductRelated  ProductRelated_Duration  \\\n",
       "0                        0.0              12               169.300000   \n",
       "1                        0.0               5                75.600000   \n",
       "2                        0.0               6                77.000000   \n",
       "3                        0.0               0                 0.000000   \n",
       "4                        0.0              12               168.000000   \n",
       "...                      ...             ...                      ...   \n",
       "2567                    56.0              62              2414.900000   \n",
       "2568                     0.0              14               617.150000   \n",
       "2569                     0.0              11               192.450000   \n",
       "2570                     0.0              17               386.416667   \n",
       "2571                   128.0             202              8217.678753   \n",
       "\n",
       "      BounceRates  ExitRates  PageValues  SpecialDay  OperatingSystems  \\\n",
       "0        0.000000   0.016667    0.000000         0.0                 2   \n",
       "1        0.000000   0.000000    0.000000         0.0                 1   \n",
       "2        0.000000   0.016667    0.000000         0.6                 2   \n",
       "3        0.050000   0.100000    0.000000         0.0                 1   \n",
       "4        0.041667   0.063889    0.000000         0.0                 2   \n",
       "...           ...        ...         ...         ...               ...   \n",
       "2567     0.000000   0.002222   30.461587         0.0                 2   \n",
       "2568     0.000000   0.004444    9.253162         0.0                 1   \n",
       "2569     0.036364   0.040909   27.315105         0.0                 3   \n",
       "2570     0.000000   0.010000    0.000000         0.0                 2   \n",
       "2571     0.001905   0.013669    3.651726         0.0                 2   \n",
       "\n",
       "      Browser  Region  TrafficType  Weekend  \n",
       "0           2       3            2     True  \n",
       "1           1       3            4     True  \n",
       "2           2       2            4    False  \n",
       "3           1       1            5    False  \n",
       "4           2       1            1    False  \n",
       "...       ...     ...          ...      ...  \n",
       "2567        2       9            2    False  \n",
       "2568        1       6            5    False  \n",
       "2569        2       1            1     True  \n",
       "2570        2       1            2    False  \n",
       "2571        2       3           10     True  \n",
       "\n",
       "[2572 rows x 15 columns]"
      ]
     },
     "execution_count": 39,
     "metadata": {},
     "output_type": "execute_result"
    }
   ],
   "source": [
    "for i in Category_Features: #Removing \n",
    "    predictors.remove(i)\n",
    "predictors #Checking Predictors list.\n",
    "train_X[predictors]"
   ]
  },
  {
   "cell_type": "markdown",
   "id": "9052e759-b04e-4832-8226-00fe941a547e",
   "metadata": {},
   "source": [
    "#  Standardzation of quantitative features"
   ]
  },
  {
   "cell_type": "code",
   "execution_count": 40,
   "id": "faf2d893-94b8-49d9-a367-23328609a768",
   "metadata": {},
   "outputs": [],
   "source": [
    "# create a standard scaler and fit it to the training set of predictors\n",
    "scaler = preprocessing.StandardScaler()\n",
    "scaler.fit(train_X[predictors])\n",
    "\n",
    "# Transform the predictors of training, validation and newCustomer\n",
    "train_scaled_data= scaler.transform(train_X[predictors])\n",
    "test_scaled_data = scaler.transform(test_X[predictors])\n"
   ]
  },
  {
   "cell_type": "code",
   "execution_count": 41,
   "id": "42f3eee3-7967-4da2-b13b-ca3be2d1e965",
   "metadata": {},
   "outputs": [
    {
     "data": {
      "text/html": [
       "<div>\n",
       "<style scoped>\n",
       "    .dataframe tbody tr th:only-of-type {\n",
       "        vertical-align: middle;\n",
       "    }\n",
       "\n",
       "    .dataframe tbody tr th {\n",
       "        vertical-align: top;\n",
       "    }\n",
       "\n",
       "    .dataframe thead th {\n",
       "        text-align: right;\n",
       "    }\n",
       "</style>\n",
       "<table border=\"1\" class=\"dataframe\">\n",
       "  <thead>\n",
       "    <tr style=\"text-align: right;\">\n",
       "      <th></th>\n",
       "      <th>Administrative</th>\n",
       "      <th>Administrative_Duration</th>\n",
       "      <th>Informational</th>\n",
       "      <th>Informational_Duration</th>\n",
       "      <th>ProductRelated</th>\n",
       "      <th>ProductRelated_Duration</th>\n",
       "      <th>BounceRates</th>\n",
       "      <th>ExitRates</th>\n",
       "      <th>PageValues</th>\n",
       "      <th>SpecialDay</th>\n",
       "      <th>Month</th>\n",
       "      <th>OperatingSystems</th>\n",
       "      <th>Browser</th>\n",
       "      <th>Region</th>\n",
       "      <th>TrafficType</th>\n",
       "      <th>VisitorType</th>\n",
       "      <th>Weekend</th>\n",
       "    </tr>\n",
       "  </thead>\n",
       "  <tbody>\n",
       "    <tr>\n",
       "      <th>0</th>\n",
       "      <td>-0.582471</td>\n",
       "      <td>-0.399198</td>\n",
       "      <td>-0.348600</td>\n",
       "      <td>-0.240230</td>\n",
       "      <td>-0.323109</td>\n",
       "      <td>-0.456195</td>\n",
       "      <td>-0.595951</td>\n",
       "      <td>-0.679164</td>\n",
       "      <td>-0.492856</td>\n",
       "      <td>-0.292174</td>\n",
       "      <td>5.0</td>\n",
       "      <td>-0.100183</td>\n",
       "      <td>-0.219063</td>\n",
       "      <td>-0.036092</td>\n",
       "      <td>-0.511543</td>\n",
       "      <td>2.0</td>\n",
       "      <td>1.814889</td>\n",
       "    </tr>\n",
       "    <tr>\n",
       "      <th>1</th>\n",
       "      <td>-0.582471</td>\n",
       "      <td>-0.399198</td>\n",
       "      <td>-0.348600</td>\n",
       "      <td>-0.240230</td>\n",
       "      <td>-0.477217</td>\n",
       "      <td>-0.508502</td>\n",
       "      <td>-0.595951</td>\n",
       "      <td>-0.913308</td>\n",
       "      <td>-0.492856</td>\n",
       "      <td>-0.292174</td>\n",
       "      <td>8.0</td>\n",
       "      <td>-1.178298</td>\n",
       "      <td>-0.808427</td>\n",
       "      <td>-0.036092</td>\n",
       "      <td>0.022530</td>\n",
       "      <td>2.0</td>\n",
       "      <td>1.814889</td>\n",
       "    </tr>\n",
       "    <tr>\n",
       "      <th>2</th>\n",
       "      <td>-0.582471</td>\n",
       "      <td>-0.399198</td>\n",
       "      <td>-0.348600</td>\n",
       "      <td>-0.240230</td>\n",
       "      <td>-0.455201</td>\n",
       "      <td>-0.507721</td>\n",
       "      <td>-0.595951</td>\n",
       "      <td>-0.679164</td>\n",
       "      <td>-0.492856</td>\n",
       "      <td>2.910124</td>\n",
       "      <td>6.0</td>\n",
       "      <td>-0.100183</td>\n",
       "      <td>-0.219063</td>\n",
       "      <td>-0.456128</td>\n",
       "      <td>0.022530</td>\n",
       "      <td>2.0</td>\n",
       "      <td>-0.550998</td>\n",
       "    </tr>\n",
       "    <tr>\n",
       "      <th>3</th>\n",
       "      <td>-0.262975</td>\n",
       "      <td>-0.267136</td>\n",
       "      <td>-0.348600</td>\n",
       "      <td>-0.240230</td>\n",
       "      <td>-0.587294</td>\n",
       "      <td>-0.550705</td>\n",
       "      <td>0.057862</td>\n",
       "      <td>0.491557</td>\n",
       "      <td>-0.492856</td>\n",
       "      <td>-0.292174</td>\n",
       "      <td>8.0</td>\n",
       "      <td>-1.178298</td>\n",
       "      <td>-0.808427</td>\n",
       "      <td>-0.876163</td>\n",
       "      <td>0.289566</td>\n",
       "      <td>2.0</td>\n",
       "      <td>-0.550998</td>\n",
       "    </tr>\n",
       "    <tr>\n",
       "      <th>4</th>\n",
       "      <td>-0.582471</td>\n",
       "      <td>-0.399198</td>\n",
       "      <td>-0.348600</td>\n",
       "      <td>-0.240230</td>\n",
       "      <td>-0.323109</td>\n",
       "      <td>-0.456920</td>\n",
       "      <td>-0.051107</td>\n",
       "      <td>-0.015755</td>\n",
       "      <td>-0.492856</td>\n",
       "      <td>-0.292174</td>\n",
       "      <td>7.0</td>\n",
       "      <td>-0.100183</td>\n",
       "      <td>-0.219063</td>\n",
       "      <td>-0.876163</td>\n",
       "      <td>-0.778579</td>\n",
       "      <td>2.0</td>\n",
       "      <td>-0.550998</td>\n",
       "    </tr>\n",
       "    <tr>\n",
       "      <th>...</th>\n",
       "      <td>...</td>\n",
       "      <td>...</td>\n",
       "      <td>...</td>\n",
       "      <td>...</td>\n",
       "      <td>...</td>\n",
       "      <td>...</td>\n",
       "      <td>...</td>\n",
       "      <td>...</td>\n",
       "      <td>...</td>\n",
       "      <td>...</td>\n",
       "      <td>...</td>\n",
       "      <td>...</td>\n",
       "      <td>...</td>\n",
       "      <td>...</td>\n",
       "      <td>...</td>\n",
       "      <td>...</td>\n",
       "      <td>...</td>\n",
       "    </tr>\n",
       "    <tr>\n",
       "      <th>2567</th>\n",
       "      <td>-0.262975</td>\n",
       "      <td>-0.197782</td>\n",
       "      <td>0.523578</td>\n",
       "      <td>0.225805</td>\n",
       "      <td>0.777660</td>\n",
       "      <td>0.797399</td>\n",
       "      <td>-0.595951</td>\n",
       "      <td>-0.882089</td>\n",
       "      <td>0.578694</td>\n",
       "      <td>-0.292174</td>\n",
       "      <td>6.0</td>\n",
       "      <td>-0.100183</td>\n",
       "      <td>-0.219063</td>\n",
       "      <td>2.484123</td>\n",
       "      <td>-0.511543</td>\n",
       "      <td>2.0</td>\n",
       "      <td>-0.550998</td>\n",
       "    </tr>\n",
       "    <tr>\n",
       "      <th>2568</th>\n",
       "      <td>0.695512</td>\n",
       "      <td>0.028551</td>\n",
       "      <td>-0.348600</td>\n",
       "      <td>-0.240230</td>\n",
       "      <td>-0.279078</td>\n",
       "      <td>-0.206185</td>\n",
       "      <td>-0.595951</td>\n",
       "      <td>-0.850870</td>\n",
       "      <td>-0.167357</td>\n",
       "      <td>-0.292174</td>\n",
       "      <td>9.0</td>\n",
       "      <td>-1.178298</td>\n",
       "      <td>-0.808427</td>\n",
       "      <td>1.224016</td>\n",
       "      <td>0.289566</td>\n",
       "      <td>0.0</td>\n",
       "      <td>-0.550998</td>\n",
       "    </tr>\n",
       "    <tr>\n",
       "      <th>2569</th>\n",
       "      <td>-0.582471</td>\n",
       "      <td>-0.399198</td>\n",
       "      <td>-0.348600</td>\n",
       "      <td>-0.240230</td>\n",
       "      <td>-0.345124</td>\n",
       "      <td>-0.443271</td>\n",
       "      <td>-0.120450</td>\n",
       "      <td>-0.338591</td>\n",
       "      <td>0.468010</td>\n",
       "      <td>-0.292174</td>\n",
       "      <td>8.0</td>\n",
       "      <td>0.977933</td>\n",
       "      <td>-0.219063</td>\n",
       "      <td>-0.876163</td>\n",
       "      <td>-0.778579</td>\n",
       "      <td>2.0</td>\n",
       "      <td>1.814889</td>\n",
       "    </tr>\n",
       "    <tr>\n",
       "      <th>2570</th>\n",
       "      <td>0.376016</td>\n",
       "      <td>-0.193629</td>\n",
       "      <td>-0.348600</td>\n",
       "      <td>-0.240230</td>\n",
       "      <td>-0.213032</td>\n",
       "      <td>-0.334990</td>\n",
       "      <td>-0.595951</td>\n",
       "      <td>-0.772822</td>\n",
       "      <td>-0.492856</td>\n",
       "      <td>-0.292174</td>\n",
       "      <td>1.0</td>\n",
       "      <td>-0.100183</td>\n",
       "      <td>-0.219063</td>\n",
       "      <td>-0.876163</td>\n",
       "      <td>-0.511543</td>\n",
       "      <td>0.0</td>\n",
       "      <td>-0.550998</td>\n",
       "    </tr>\n",
       "    <tr>\n",
       "      <th>2571</th>\n",
       "      <td>3.570975</td>\n",
       "      <td>1.668844</td>\n",
       "      <td>4.012291</td>\n",
       "      <td>0.824993</td>\n",
       "      <td>3.859813</td>\n",
       "      <td>4.036767</td>\n",
       "      <td>-0.571044</td>\n",
       "      <td>-0.721281</td>\n",
       "      <td>-0.364399</td>\n",
       "      <td>-0.292174</td>\n",
       "      <td>7.0</td>\n",
       "      <td>-0.100183</td>\n",
       "      <td>-0.219063</td>\n",
       "      <td>-0.036092</td>\n",
       "      <td>1.624748</td>\n",
       "      <td>2.0</td>\n",
       "      <td>1.814889</td>\n",
       "    </tr>\n",
       "  </tbody>\n",
       "</table>\n",
       "<p>2572 rows × 17 columns</p>\n",
       "</div>"
      ],
      "text/plain": [
       "      Administrative  Administrative_Duration  Informational  \\\n",
       "0          -0.582471                -0.399198      -0.348600   \n",
       "1          -0.582471                -0.399198      -0.348600   \n",
       "2          -0.582471                -0.399198      -0.348600   \n",
       "3          -0.262975                -0.267136      -0.348600   \n",
       "4          -0.582471                -0.399198      -0.348600   \n",
       "...              ...                      ...            ...   \n",
       "2567       -0.262975                -0.197782       0.523578   \n",
       "2568        0.695512                 0.028551      -0.348600   \n",
       "2569       -0.582471                -0.399198      -0.348600   \n",
       "2570        0.376016                -0.193629      -0.348600   \n",
       "2571        3.570975                 1.668844       4.012291   \n",
       "\n",
       "      Informational_Duration  ProductRelated  ProductRelated_Duration  \\\n",
       "0                  -0.240230       -0.323109                -0.456195   \n",
       "1                  -0.240230       -0.477217                -0.508502   \n",
       "2                  -0.240230       -0.455201                -0.507721   \n",
       "3                  -0.240230       -0.587294                -0.550705   \n",
       "4                  -0.240230       -0.323109                -0.456920   \n",
       "...                      ...             ...                      ...   \n",
       "2567                0.225805        0.777660                 0.797399   \n",
       "2568               -0.240230       -0.279078                -0.206185   \n",
       "2569               -0.240230       -0.345124                -0.443271   \n",
       "2570               -0.240230       -0.213032                -0.334990   \n",
       "2571                0.824993        3.859813                 4.036767   \n",
       "\n",
       "      BounceRates  ExitRates  PageValues  SpecialDay  Month  OperatingSystems  \\\n",
       "0       -0.595951  -0.679164   -0.492856   -0.292174    5.0         -0.100183   \n",
       "1       -0.595951  -0.913308   -0.492856   -0.292174    8.0         -1.178298   \n",
       "2       -0.595951  -0.679164   -0.492856    2.910124    6.0         -0.100183   \n",
       "3        0.057862   0.491557   -0.492856   -0.292174    8.0         -1.178298   \n",
       "4       -0.051107  -0.015755   -0.492856   -0.292174    7.0         -0.100183   \n",
       "...           ...        ...         ...         ...    ...               ...   \n",
       "2567    -0.595951  -0.882089    0.578694   -0.292174    6.0         -0.100183   \n",
       "2568    -0.595951  -0.850870   -0.167357   -0.292174    9.0         -1.178298   \n",
       "2569    -0.120450  -0.338591    0.468010   -0.292174    8.0          0.977933   \n",
       "2570    -0.595951  -0.772822   -0.492856   -0.292174    1.0         -0.100183   \n",
       "2571    -0.571044  -0.721281   -0.364399   -0.292174    7.0         -0.100183   \n",
       "\n",
       "       Browser    Region  TrafficType  VisitorType   Weekend  \n",
       "0    -0.219063 -0.036092    -0.511543          2.0  1.814889  \n",
       "1    -0.808427 -0.036092     0.022530          2.0  1.814889  \n",
       "2    -0.219063 -0.456128     0.022530          2.0 -0.550998  \n",
       "3    -0.808427 -0.876163     0.289566          2.0 -0.550998  \n",
       "4    -0.219063 -0.876163    -0.778579          2.0 -0.550998  \n",
       "...        ...       ...          ...          ...       ...  \n",
       "2567 -0.219063  2.484123    -0.511543          2.0 -0.550998  \n",
       "2568 -0.808427  1.224016     0.289566          0.0 -0.550998  \n",
       "2569 -0.219063 -0.876163    -0.778579          2.0  1.814889  \n",
       "2570 -0.219063 -0.876163    -0.511543          0.0 -0.550998  \n",
       "2571 -0.219063 -0.036092     1.624748          2.0  1.814889  \n",
       "\n",
       "[2572 rows x 17 columns]"
      ]
     },
     "execution_count": 41,
     "metadata": {},
     "output_type": "execute_result"
    }
   ],
   "source": [
    "s=0\n",
    "for i in predictors:\n",
    "    train_X[i]=train_scaled_data[:,s]\n",
    "    test_X[i]=test_scaled_data[:,s]\n",
    "    s=s+1\n",
    "train_X"
   ]
  },
  {
   "cell_type": "code",
   "execution_count": 42,
   "id": "3b3af1f6-aa1e-4dc2-aa1f-fafe73737a28",
   "metadata": {},
   "outputs": [],
   "source": [
    "Algorithms = ['knn','knn','DecisionTree','DecisionTree','RandomForest','RandomForest','AdaBoostClassifier','AdaBoostClassifier','GradientBoosting','GradientBoosting','XGBClassifier','XGBClassifier','LogisticRegression','LogisticRegression']\n",
    "Recall_values =[]"
   ]
  },
  {
   "cell_type": "markdown",
   "id": "d28df7ae-c98e-4f7b-b718-2645b0fc9381",
   "metadata": {},
   "source": [
    "#### Since continuous variables are measured using several scales, standardization was used to convert them to the same scale. On the train predictors and validation predictors in this case, we carried out the same action. First, as standardization should not be performed on categorical variables or the target variable, they have been eliminated. Later, we'll add that list of category features to the common dataframe. We finally receive a dataframe that is uniform."
   ]
  },
  {
   "cell_type": "markdown",
   "id": "b4c8e28b-4184-4836-8c72-32f43c0befc7",
   "metadata": {},
   "source": [
    "#### False Positive: The model projected that the customer would subscribe to the product, but the actual result was that they did not. The risk in this situation is that the marketing team will focus on customers who shouldn't be targeted. The campaign team wastes time and resources, and the client is inundated with pointless advertisements.\n",
    "\n",
    "#### False negative: Although the model projected that the customer would not subscribe to the product, the actual result was that they did. As a result of losing one of their investors for the product, the bank will incur a sizable loss.\n",
    "\n",
    "#### We have less loss with false positives than with false negatives, so FP is preferred here over FN."
   ]
  },
  {
   "cell_type": "markdown",
   "id": "8886e6bf-9af7-4e17-b586-cabfff41878d",
   "metadata": {},
   "source": [
    "# Prediction with K-NN"
   ]
  },
  {
   "cell_type": "code",
   "execution_count": 43,
   "id": "1438a0a1-136b-43b8-95dd-3905b4fea137",
   "metadata": {},
   "outputs": [
    {
     "name": "stdout",
     "output_type": "stream",
     "text": [
      "Using default parameters : Recall score:\n",
      "0.8473\n"
     ]
    }
   ],
   "source": [
    "knn = KNeighborsClassifier()\n",
    "_ = knn.fit(train_X, train_y)\n",
    "y_pred = knn.predict(test_X)\n",
    "print(f\"Using default parameters : Recall score:\\n{recall_score(test_y,y_pred):.4f}\")#Checking model Recall score.\n",
    "Recall_values.append(recall_score(test_y,y_pred))"
   ]
  },
  {
   "cell_type": "markdown",
   "id": "c8414805-46e1-4b19-bd32-7a4a19084725",
   "metadata": {},
   "source": [
    "#### On our training dataset, which is essentially a split of the original dataset, we used the K-nn model and discovered that the recall value was 0.8473."
   ]
  },
  {
   "cell_type": "code",
   "execution_count": 44,
   "id": "b6b15c1c-a1bd-4eaf-9c81-b6277a813608",
   "metadata": {},
   "outputs": [
    {
     "name": "stdout",
     "output_type": "stream",
     "text": [
      "recall score:  0.8802749515503876\n",
      "parameters:  {'metric': 'cosine', 'n_neighbors': 1, 'weights': 'uniform'}\n",
      "CPU times: total: 2.41 s\n",
      "Wall time: 31.9 s\n"
     ]
    }
   ],
   "source": [
    "%%time\n",
    "from sklearn.model_selection import GridSearchCV\n",
    "score_measure = 'recall'\n",
    "k_fold = 10\n",
    "# Start with an initial guess for parameters\n",
    "param_grid = {\n",
    "     'n_neighbors': list(range(1,round(np.sqrt(len(df))),2)),\n",
    "    'metric': ['euclidean', 'cosine','manhattan','minkowski'],\n",
    "    'weights':['uniform','distance']\n",
    "}\n",
    "best_grid_search_model = GridSearchCV(KNeighborsClassifier(), param_grid, cv=k_fold, scoring=score_measure,\n",
    "                          n_jobs=-1,error_score='raise')  # n_jobs=-1 will utilize all available CPUs \n",
    "_=best_grid_search_model.fit(train_X, train_y)\n",
    "print(score_measure, 'score: ', best_grid_search_model.best_score_)\n",
    "print('parameters: ', best_grid_search_model.best_params_)\n",
    "\n",
    "Best_recall_knn = best_grid_search_model.best_score_\n",
    "Recall_values.append(best_grid_search_model.best_score_)"
   ]
  },
  {
   "cell_type": "markdown",
   "id": "1ef9636c-5b2c-4754-823b-48125cf746a4",
   "metadata": {},
   "source": [
    "#### The optimal value of k is discovered to be at k=1 with a recall of about 88%, according to the aforementioned observations. After doing k fold, recall is improved compared to before, indicating improved model performance."
   ]
  },
  {
   "cell_type": "markdown",
   "id": "70665cc8",
   "metadata": {},
   "source": [
    "# Confusion Matrix"
   ]
  },
  {
   "cell_type": "code",
   "execution_count": 45,
   "id": "58b807c6",
   "metadata": {},
   "outputs": [
    {
     "name": "stdout",
     "output_type": "stream",
     "text": [
      "[[1761 1316]\n",
      " [  95  527]]\n"
     ]
    }
   ],
   "source": [
    "from sklearn.metrics import confusion_matrix\n",
    "from sklearn.metrics import accuracy_score\n",
    "cm = confusion_matrix(test_y, y_pred)\n",
    "print(cm)"
   ]
  },
  {
   "cell_type": "code",
   "execution_count": 46,
   "id": "695ffc1b",
   "metadata": {},
   "outputs": [],
   "source": [
    "TP = cm[1, 1] # True Positives\n",
    "TN = cm[0, 0] # True Negatives\n",
    "FP = cm[0, 1] # False Positives\n",
    "FN = cm[1, 0] # False Negatives"
   ]
  },
  {
   "cell_type": "markdown",
   "id": "5c2bc161",
   "metadata": {},
   "source": [
    "# Precision"
   ]
  },
  {
   "cell_type": "code",
   "execution_count": 47,
   "id": "d526342f",
   "metadata": {},
   "outputs": [
    {
     "name": "stdout",
     "output_type": "stream",
     "text": [
      "0.2859\n"
     ]
    }
   ],
   "source": [
    "precision = TP / (TP + FP)\n",
    "print(f\"{precision:.4f}\")"
   ]
  },
  {
   "cell_type": "markdown",
   "id": "a4dbc065",
   "metadata": {},
   "source": [
    "# Recall"
   ]
  },
  {
   "cell_type": "code",
   "execution_count": 48,
   "id": "77b694ef",
   "metadata": {},
   "outputs": [
    {
     "name": "stdout",
     "output_type": "stream",
     "text": [
      "0.8473\n"
     ]
    }
   ],
   "source": [
    "recall = TP / (TP + FN)\n",
    "print(f\"{recall:.4f}\")"
   ]
  },
  {
   "cell_type": "markdown",
   "id": "19d68006",
   "metadata": {},
   "source": [
    "# F1 Score"
   ]
  },
  {
   "cell_type": "code",
   "execution_count": 49,
   "id": "de70a10c",
   "metadata": {},
   "outputs": [
    {
     "name": "stdout",
     "output_type": "stream",
     "text": [
      "0.4276\n"
     ]
    }
   ],
   "source": [
    "f1_Score = (2 * precision * recall) / (precision + recall)\n",
    "print(f\"{f1_Score:.4f}\")"
   ]
  },
  {
   "cell_type": "markdown",
   "id": "babb9e42",
   "metadata": {},
   "source": [
    "# Accuracy"
   ]
  },
  {
   "cell_type": "code",
   "execution_count": 50,
   "id": "ced7d1da",
   "metadata": {},
   "outputs": [
    {
     "name": "stdout",
     "output_type": "stream",
     "text": [
      "0.6185455528521222\n"
     ]
    }
   ],
   "source": [
    "print(accuracy_score(test_y, y_pred))"
   ]
  },
  {
   "cell_type": "markdown",
   "id": "85644eec",
   "metadata": {},
   "source": [
    "# Correlation Matrix for Analysing the parameters and access"
   ]
  },
  {
   "cell_type": "code",
   "execution_count": 51,
   "id": "049a3734",
   "metadata": {},
   "outputs": [
    {
     "data": {
      "image/png": "[encoded data removed]",
      "text/plain": [
       "<Figure size 576x576 with 2 Axes>"
      ]
     },
     "metadata": {},
     "output_type": "display_data"
    }
   ],
   "source": [
    "import seaborn as sns\n",
    "sns.set()\n",
    "plt.figure(figsize=(8,8))\n",
    "p=sns.heatmap(df.corr(), annot=True) "
   ]
  },
  {
   "cell_type": "code",
   "execution_count": 52,
   "id": "aad989d2-f445-477d-bfe6-9384cce000ac",
   "metadata": {},
   "outputs": [],
   "source": [
    "# create the training set and the test set \n",
    "train_X, test_X, train_y, test_y = train_test_split(X, y, test_size=0.3, random_state=1)"
   ]
  },
  {
   "cell_type": "code",
   "execution_count": 53,
   "id": "a05bf8b0-79b2-44b1-8c3a-639b0f9befcf",
   "metadata": {},
   "outputs": [
    {
     "data": {
      "text/plain": [
       "0    1358\n",
       "1    1358\n",
       "Name: Revenue, dtype: int64"
      ]
     },
     "execution_count": 53,
     "metadata": {},
     "output_type": "execute_result"
    }
   ],
   "source": [
    "from imblearn.under_sampling import NearMiss\n",
    "undersample = NearMiss(version=1, n_neighbors=3)\n",
    "train_X, train_y = undersample.fit_resample(train_X, train_y)\n",
    "train_y.value_counts()"
   ]
  },
  {
   "cell_type": "markdown",
   "id": "5aa1b6a3-c642-43d7-9f3e-337254824da0",
   "metadata": {},
   "source": [
    "# Decision Tree "
   ]
  },
  {
   "cell_type": "code",
   "execution_count": 54,
   "id": "0120b9ad-5c36-4b90-a251-dca3eec83dfa",
   "metadata": {},
   "outputs": [
    {
     "name": "stdout",
     "output_type": "stream",
     "text": [
      "Using default parameters : Recall score:\n",
      "0.9491\n"
     ]
    }
   ],
   "source": [
    "#Decision Tree \n",
    "dtree=DecisionTreeClassifier(random_state=3)\n",
    "_ = dtree.fit(train_X, train_y)\n",
    "y_pred = dtree.predict(test_X)\n",
    "print(f\"Using default parameters : Recall score:\\n{recall_score(test_y,y_pred):.4f}\")#Checking model Recall score.\n",
    "Recall_values.append(recall_score(test_y,y_pred))"
   ]
  },
  {
   "cell_type": "code",
   "execution_count": 55,
   "id": "1a75d2a1-c838-4fc4-9ebf-225df9cec39d",
   "metadata": {},
   "outputs": [
    {
     "name": "stdout",
     "output_type": "stream",
     "text": [
      "Fitting 10 folds for each of 6750 candidates, totalling 67500 fits\n",
      "recall score:  0.966132897603486\n",
      "parameters:  {'criterion': 'gini', 'max_depth': 5, 'min_samples_leaf': 7, 'min_samples_split': 2}\n",
      "CPU times: total: 32.9 s\n",
      "Wall time: 2min 51s\n"
     ]
    }
   ],
   "source": [
    "%%time\n",
    "score_measure = 'recall'\n",
    "k_fold = 10\n",
    "\n",
    "param_grid = {\n",
    "\n",
    "    'criterion':  ['gini','entropy','log_loss'],\n",
    "    'max_depth':  [2]+list(range(5,50,5)),\n",
    "     'min_samples_leaf': range(2,len(train_X.columns),1) , \n",
    "     'min_samples_split': range(2,len(train_X.columns),1)\n",
    "    \n",
    "\n",
    "}\n",
    "\n",
    "best_grid_search_model = GridSearchCV(estimator=DecisionTreeClassifier(),param_grid=param_grid,cv=k_fold, n_jobs=-1,verbose=1,scoring=score_measure)\n",
    "\n",
    "_ = best_grid_search_model.fit(train_X, train_y)\n",
    "\n",
    "print(score_measure, 'score: ', best_grid_search_model.best_score_)\n",
    "\n",
    "print('parameters: ', best_grid_search_model.best_params_)\n",
    "Best_recall_DT = best_grid_search_model.best_score_\n",
    "Recall_values.append(best_grid_search_model.best_score_)"
   ]
  },
  {
   "cell_type": "markdown",
   "id": "e0a262d7-4fcb-4053-b4f3-89f7123695a1",
   "metadata": {},
   "source": [
    "#### The recall for the decision tree is determined to be approximately 94%, and after conducting k-fold it enhanced its recall rate from 94% to 96%. Here, after completing the analysis on the splitted data, we were able to determine the worth of the performance metrics. Although this model required more computing time than the ones above, it produced the best results compared to the earlier models."
   ]
  },
  {
   "cell_type": "markdown",
   "id": "dc1b89a5",
   "metadata": {},
   "source": [
    "# Confusion Matrix"
   ]
  },
  {
   "cell_type": "code",
   "execution_count": 56,
   "id": "3bcd50c2",
   "metadata": {},
   "outputs": [
    {
     "name": "stdout",
     "output_type": "stream",
     "text": [
      "[[1333 1816]\n",
      " [  29  521]]\n"
     ]
    }
   ],
   "source": [
    "from sklearn.tree import DecisionTreeClassifier\n",
    "clf=DecisionTreeClassifier()\n",
    "clf.fit(train_X,train_y)\n",
    "dec_pred=clf.predict(test_X)\n",
    "cm = confusion_matrix(test_y, dec_pred)\n",
    "print(cm)"
   ]
  },
  {
   "cell_type": "code",
   "execution_count": 57,
   "id": "40da70da",
   "metadata": {},
   "outputs": [],
   "source": [
    "TP = cm[1, 1] # True Positives\n",
    "TN = cm[0, 0] # True Negatives\n",
    "FP = cm[0, 1] # False Positives\n",
    "FN = cm[1, 0] # False Negatives"
   ]
  },
  {
   "cell_type": "code",
   "execution_count": 58,
   "id": "d4c8c1af",
   "metadata": {},
   "outputs": [
    {
     "name": "stdout",
     "output_type": "stream",
     "text": [
      "0.2229\n"
     ]
    }
   ],
   "source": [
    "precision = TP / (TP + FP)\n",
    "print(f\"{precision:.4f}\")"
   ]
  },
  {
   "cell_type": "code",
   "execution_count": 59,
   "id": "b87b7c43",
   "metadata": {},
   "outputs": [
    {
     "name": "stdout",
     "output_type": "stream",
     "text": [
      "0.9473\n"
     ]
    }
   ],
   "source": [
    "recall = TP / (TP + FN)\n",
    "print(f\"{recall:.4f}\")"
   ]
  },
  {
   "cell_type": "code",
   "execution_count": 60,
   "id": "12159ac2",
   "metadata": {},
   "outputs": [
    {
     "name": "stdout",
     "output_type": "stream",
     "text": [
      "0.3609\n"
     ]
    }
   ],
   "source": [
    "f1_Score = (2 * precision * recall) / (precision + recall)\n",
    "print(f\"{f1_Score:.4f}\")"
   ]
  },
  {
   "cell_type": "markdown",
   "id": "c263de83-fc6d-4528-b4e5-20b985dedf99",
   "metadata": {},
   "source": [
    "# Random Forest"
   ]
  },
  {
   "cell_type": "code",
   "execution_count": 61,
   "id": "c3e0bcf8-9193-4e4b-bc92-afd5cd5e4630",
   "metadata": {},
   "outputs": [
    {
     "name": "stdout",
     "output_type": "stream",
     "text": [
      "Using default parameters : Recall score:\n",
      "0.9691\n"
     ]
    }
   ],
   "source": [
    "#Random Forest\n",
    "rforest = RandomForestClassifier(random_state=1)\n",
    "_ = rforest.fit(train_X, train_y)\n",
    "y_pred = rforest.predict(test_X)\n",
    "print(f\"Using default parameters : Recall score:\\n{recall_score(test_y,y_pred):.4f}\")#Checking model Recall score.\n",
    "Recall_values.append(recall_score(test_y,y_pred))"
   ]
  },
  {
   "cell_type": "code",
   "execution_count": 62,
   "id": "f225680f-d8cd-4a8c-9e0a-549d7ed5b16e",
   "metadata": {},
   "outputs": [
    {
     "name": "stdout",
     "output_type": "stream",
     "text": [
      "Fitting 10 folds for each of 72 candidates, totalling 720 fits\n",
      "recall score:  0.963937908496732\n",
      "parameters:  {'bootstrap': True, 'max_depth': 20, 'max_features': 'auto', 'min_samples_leaf': 1, 'min_samples_split': 5, 'n_estimators': 20}\n",
      "CPU times: total: 1.53 s\n",
      "Wall time: 15.9 s\n"
     ]
    }
   ],
   "source": [
    "%%time\n",
    "score_measure = 'recall'\n",
    "k_fold = 10\n",
    "\n",
    "param_grid = {\n",
    "    \"n_estimators\": range(20,60,20),\n",
    "    'max_features':['auto', 'sqrt'],\n",
    "     'min_samples_leaf': [1, 2, 4],\n",
    "     'min_samples_split': [2, 5, 10],\n",
    "    'max_depth': [20,40],\n",
    "    'bootstrap': [True],\n",
    "\n",
    "         }\n",
    "best_grid_search_model = GridSearchCV(estimator=RandomForestClassifier(random_state=1), \n",
    "                                    scoring=score_measure, param_grid=param_grid, cv=k_fold, verbose=1,  n_jobs = -1,error_score='raise')\n",
    "_ = best_grid_search_model.fit(train_X, train_y)\n",
    "print(score_measure, 'score: ', best_grid_search_model.best_score_)\n",
    "print('parameters: ', best_grid_search_model.best_params_)\n",
    "Best_recall_RF = best_grid_search_model.best_score_\n",
    "Recall_values.append(best_grid_search_model.best_score_)"
   ]
  },
  {
   "cell_type": "markdown",
   "id": "dc63cc72-5423-4c75-9d34-b03023b18e26",
   "metadata": {},
   "source": [
    "#### To see if we can get even better results, we are running random forest on the dataset.\n",
    "#### Here, we have utilized the following parameters:\n",
    "#### 1. Bootstrap: It accepts either true or false as values. If this is the case, each tree is constructed using the split data.\n",
    "#### 2. Before calculating the maximum averages of the predictions, we want to build the number of trees (n estimators). Even while having more trees helps performance, the code will run more slowly as a result. The best range chosen is 20 to 100.\n",
    "#### 3. max features: The most features that a single tree in Random Forest may attempt.\n",
    "#### 4. max depth: In this case, the distance between a list's root node and leaf node was taken into account.\n",
    "#### 5.The bare minimum number of samples required at a leaf node is indicated by the term min samples leaf.\n",
    "#### The bare minimum of samples necessary to separate an internal node is represented by the variable min samples split.\n",
    "#### We could identify the best model at the'max depth': 20,'max features': 0,', and 'n estimators': 20 with an recall score of 0.963937908496732 by executing the Random forest function and setting all of these parameters."
   ]
  },
  {
   "cell_type": "markdown",
   "id": "b88118ec-a0d1-49aa-9217-e8d2407cd737",
   "metadata": {},
   "source": [
    "# AdaBoostClassifier"
   ]
  },
  {
   "cell_type": "code",
   "execution_count": 63,
   "id": "8a71073e-4816-41b0-8914-04f9fae886e9",
   "metadata": {},
   "outputs": [
    {
     "name": "stdout",
     "output_type": "stream",
     "text": [
      "Using default parameters : Recall score:\n",
      "0.9564\n"
     ]
    }
   ],
   "source": [
    "from sklearn.ensemble import AdaBoostClassifier\n",
    "#AdaBoostClassifier\n",
    "adaboost = AdaBoostClassifier(random_state=3)\n",
    "_ = adaboost.fit(train_X, train_y)\n",
    "y_pred = adaboost.predict(test_X)\n",
    "print(f\"Using default parameters : Recall score:\\n{recall_score(test_y,y_pred):.4f}\")#Checking model Recall score.\n",
    "Recall_values.append(recall_score(test_y,y_pred))\n",
    "\n"
   ]
  },
  {
   "cell_type": "code",
   "execution_count": 64,
   "id": "7031498b-2e0c-4606-b12f-bb465ff75084",
   "metadata": {},
   "outputs": [
    {
     "name": "stdout",
     "output_type": "stream",
     "text": [
      "Fitting 10 folds for each of 196 candidates, totalling 1960 fits\n",
      "recall score:  0.9676252723311547\n",
      "parameters:  {'learning_rate': 0.8, 'n_estimators': 14}\n",
      "CPU times: total: 3.23 s\n",
      "Wall time: 44 s\n"
     ]
    }
   ],
   "source": [
    "%%time\n",
    "score_measure = 'recall'\n",
    "k_fold = 10\n",
    "param_grid = {\n",
    "             'learning_rate': [0.7,0.8,0.9,1.0],\n",
    "           'n_estimators': range(1,50,1)\n",
    "              }\n",
    "best_grid_search_model = GridSearchCV(estimator=AdaBoostClassifier(random_state=3),\n",
    "                                    scoring=score_measure, param_grid=param_grid, cv=k_fold, verbose=1,  n_jobs = -1)\n",
    "_ = best_grid_search_model.fit(train_X, train_y)\n",
    "print(score_measure, 'score: ', best_grid_search_model.best_score_)\n",
    "print('parameters: ', best_grid_search_model.best_params_)\n",
    "Best_recall_AdaBoost = best_grid_search_model.best_score_\n",
    "Recall_values.append(best_grid_search_model.best_score_)"
   ]
  },
  {
   "cell_type": "markdown",
   "id": "267d2eb5-036a-4849-8c6e-c99067616652",
   "metadata": {},
   "source": [
    "#### Recall score for the default Adaboost model is 0.9047698240885435. Using the two most important variables, n estimators and learning rate, we customized adaboost.\n",
    "#### Before calculating the maximum averages of the predictions, we wish to build the following number of trees: #### n estimators. #### Even while having more trees helps performance, the code will run more slowly as a result. We've selected a good range of 1 to 50.\n",
    "#### learning rate: The learning rate, which by default is set to 1, represents the weights' contribution from each model. The weights are gently raised or dropped when the learning rate is slowed down, which makes the model train move more slowly (but sometimes resulting in better performance scores).\n",
    "#### We got the best model after doing hyperparameter tweaking with a k-fold value of 10. and parameters learning_rate': 0.8, 'n_estimators': 14 and recall score of 0.9676252723311547"
   ]
  },
  {
   "cell_type": "markdown",
   "id": "a1af5578-2fb9-4f5d-a16c-62af390f8270",
   "metadata": {},
   "source": [
    "# GradientBoosting"
   ]
  },
  {
   "cell_type": "code",
   "execution_count": 65,
   "id": "1970e7b1-672b-4295-845e-d676ae153609",
   "metadata": {},
   "outputs": [
    {
     "name": "stdout",
     "output_type": "stream",
     "text": [
      "Using default parameters : Recall score:\n",
      "0.9655\n"
     ]
    }
   ],
   "source": [
    "#GradientBoosting\n",
    "from sklearn.ensemble import GradientBoostingClassifier\n",
    "gboost = GradientBoostingClassifier(random_state=3)\n",
    "_ = gboost.fit(train_X, train_y)\n",
    "y_pred = gboost.predict(test_X)\n",
    "print(f\"Using default parameters : Recall score:\\n{recall_score(test_y,y_pred):.4f}\")#Checking model Recall score.\n",
    "Recall_values.append(recall_score(test_y,y_pred))\n",
    "\n"
   ]
  },
  {
   "cell_type": "code",
   "execution_count": 66,
   "id": "ff5a6988-9a2e-49a9-94ed-3dfcb4b22984",
   "metadata": {},
   "outputs": [
    {
     "name": "stdout",
     "output_type": "stream",
     "text": [
      "Fitting 10 folds for each of 100 candidates, totalling 1000 fits\n",
      "recall score:  0.9668899782135076\n",
      "parameters:  {'learning_rate': 0.05, 'max_depth': 4, 'n_estimators': 200}\n",
      "CPU times: total: 3.69 s\n",
      "Wall time: 2min\n"
     ]
    }
   ],
   "source": [
    "%%time\n",
    "score_measure = 'recall'\n",
    "k_fold = 10\n",
    "param_grid ={ 'n_estimators' : [25, 50 ,75, 100, 200],\n",
    "              'learning_rate': [0.005 ,0.05, 0.5, 1.5,2],\n",
    "              'max_depth': [2, 4, 6, 8],\n",
    "              }\n",
    "best_grid_search_model = GridSearchCV(estimator=GradientBoostingClassifier(random_state=3), \n",
    "                                    scoring=score_measure, param_grid=param_grid, cv=k_fold, verbose=1,  n_jobs = -1)\n",
    "_ = best_grid_search_model.fit(train_X, train_y)\n",
    "print(score_measure, 'score: ', best_grid_search_model.best_score_)\n",
    "print('parameters: ', best_grid_search_model.best_params_)\n",
    "Best_recall_GB = best_grid_search_model.best_score_\n",
    "Recall_values.append(best_grid_search_model.best_score_)"
   ]
  },
  {
   "cell_type": "markdown",
   "id": "40c4b4dd-5689-41ec-86aa-a33fc816829d",
   "metadata": {},
   "source": [
    "#### A potent method for creating predictive models is gradient boosting. It can profit from regularization techniques that punish various algorithmic components and enhance algorithm performance by lowering overfitting.\n",
    "#### adjusting n estimators, Maximum depth and learning rate:\n",
    " #### The variable n estimators keeps track of the number of trees we include in the model. Processing multiple trees computationally can be expensive. For example, a 10-fold decrease in learning rate should result in a roughly 10-fold rise in n estimators. In general, n estimators should be adjusted to match changes in learning rate.\n",
    "\n",
    " #### Since the best n estimators ended up being 100, it would seem that the low learning rate value of 0.05 predicted that the n estimators value would be large.\n",
    "\n",
    " #### max depth T: his demonstrates the potential depth of the created tree. The more splits a tree has, the more information it collects about the data's structure.\n",
    "\n",
    "#### The recall score for the Gradient Boosting model was 0.9655 and it has a tendency to overfit the data. After doing hyperparameter tuning, we obtained the best model with the following parameters:'learning_rate': 0.05, 'max_depth': 4, 'n_estimators': 200 and recall score': 0.9668899782135076."
   ]
  },
  {
   "cell_type": "markdown",
   "id": "e0cf840a-a507-4f4e-b733-bd6bcc6cbe0c",
   "metadata": {},
   "source": [
    "# XGBClassifier"
   ]
  },
  {
   "cell_type": "code",
   "execution_count": 67,
   "id": "347d1dec-1259-4e39-8476-f1ef6330de00",
   "metadata": {},
   "outputs": [
    {
     "name": "stdout",
     "output_type": "stream",
     "text": [
      "[22:48:31] WARNING: C:\\Windows\\Temp\\abs_557yfx631l\\croots\\recipe\\xgboost-split_1659548953302\\work\\src\\learner.cc:1115: Starting in XGBoost 1.3.0, the default evaluation metric used with the objective 'binary:logistic' was changed from 'error' to 'logloss'. Explicitly set eval_metric if you'd like to restore the old behavior.\n",
      "Using default parameters : Recall score:\n",
      "0.9691\n"
     ]
    }
   ],
   "source": [
    "#XGBClassifier\n",
    "xgboost = XGBClassifier(random_state=1)\n",
    "_ = xgboost.fit(train_X, train_y)\n",
    "y_pred = xgboost.predict(test_X)\n",
    "print(f\"Using default parameters : Recall score:\\n{recall_score(test_y,y_pred):.4f}\")#Checking model Recall score.\n",
    "Recall_values.append(recall_score(test_y,y_pred))\n",
    "\n"
   ]
  },
  {
   "cell_type": "code",
   "execution_count": 68,
   "id": "3a2bf3cf-b75e-439e-9be2-82111e6561cb",
   "metadata": {},
   "outputs": [
    {
     "name": "stdout",
     "output_type": "stream",
     "text": [
      "Fitting 10 folds for each of 100 candidates, totalling 1000 fits\n",
      "[22:53:50] WARNING: C:\\Windows\\Temp\\abs_557yfx631l\\croots\\recipe\\xgboost-split_1659548953302\\work\\src\\learner.cc:1115: Starting in XGBoost 1.3.0, the default evaluation metric used with the objective 'binary:logistic' was changed from 'error' to 'logloss'. Explicitly set eval_metric if you'd like to restore the old behavior.\n",
      "recall score:  0.9676252723311547\n",
      "parameters:  {'learning_rate': 0.1, 'max_depth': 3, 'n_estimators': 100}\n",
      "CPU times: total: 3.8 s\n",
      "Wall time: 5min 19s\n"
     ]
    }
   ],
   "source": [
    "%%time\n",
    "score_measure = 'recall'\n",
    "k_fold = 10\n",
    "param_grid = {\n",
    "            \n",
    "    'n_estimators': [80, 100, 250, 500, 750],\n",
    "    'learning_rate': [0.01, 0.1, 0.2, 0.3, 0.4],\n",
    "    'max_depth': [3, 6, 10, 15],\n",
    "            \n",
    "}\n",
    "\n",
    "           \n",
    "best_grid_search_model = GridSearchCV(estimator=XGBClassifier(random_state=1), \n",
    "                                    scoring=score_measure, param_grid=param_grid, cv=k_fold, verbose=1,  n_jobs = -1)\n",
    "_ = best_grid_search_model.fit(train_X, train_y)\n",
    "print(score_measure, 'score: ', best_grid_search_model.best_score_)\n",
    "print('parameters: ', best_grid_search_model.best_params_)\n",
    "Best_recall_XGB = best_grid_search_model.best_score_\n",
    "Recall_values.append(best_grid_search_model.best_score_)"
   ]
  },
  {
   "cell_type": "markdown",
   "id": "9c9e9ec9-fb02-4dd8-9a74-c945b4211483",
   "metadata": {},
   "source": [
    "#### Extreme Gradient Boosting is a distributed, scalable gradient-boosted decision tree (GBDT) machine learning framework (XGBoost). The best machine learning program for regression, classification, and ranking tasks, it offers parallel tree boosting.\n",
    "#### Maximal depth, learning rate, and n estimators were all used in this case. The term \"max depth\" refers to the tree's deepest point. The amount of fresh trees incorporated in the model can be controlled using the learning rate parameter. The term \"n estimators\" refers to the quantity of runs that the model will try to learn from. After hypertuning, the parameters should be set to have the following values: learning rate = 0.1, max depth = 3, and n estimators = 100. Consequently, we learned that the recall was 0.9676252723311547."
   ]
  },
  {
   "cell_type": "markdown",
   "id": "5c40bdb3-06ef-4137-9d98-56a511b4b08b",
   "metadata": {},
   "source": [
    "# LogisticRegression"
   ]
  },
  {
   "cell_type": "code",
   "execution_count": 69,
   "id": "50880543-fec6-4342-8ee9-9b8d161593b8",
   "metadata": {},
   "outputs": [
    {
     "name": "stdout",
     "output_type": "stream",
     "text": [
      "Using default parameters : Recall score:\n",
      "0.9527\n"
     ]
    }
   ],
   "source": [
    "logClassifier=LogisticRegression(random_state=1)\n",
    "\n",
    "_ = logClassifier.fit(train_X,train_y)\n",
    "y_pred = logClassifier.predict(test_X)\n",
    "print(f\"Using default parameters : Recall score:\\n{recall_score(test_y,y_pred):.4f}\")#Checking model Recall score.\n",
    "Recall_values.append(recall_score(test_y,y_pred))"
   ]
  },
  {
   "cell_type": "code",
   "execution_count": 70,
   "id": "a9ce3a19-a504-44cc-ad22-b8d42fcc2327",
   "metadata": {},
   "outputs": [
    {
     "name": "stdout",
     "output_type": "stream",
     "text": [
      "recall score:  0.9506753812636164\n",
      "parameters:  {'C': 100, 'max_iter': 1000, 'penalty': 'l1', 'solver': 'liblinear'}\n",
      "CPU times: total: 281 ms\n",
      "Wall time: 3min 26s\n"
     ]
    }
   ],
   "source": [
    "%%time\n",
    "score_measure = 'recall'\n",
    "k_fold = 10\n",
    "param_grid = { 'solver': ['liblinear'],\n",
    "                      'penalty': ['l1', 'l2',], # NOTE: 'elasticnet' is only supported by 'saga' solver\n",
    "                      'C': [100, 10, 1.0],\n",
    "                      'max_iter': [1000,2500, 5000] # number of iterations to converge (sometimes the default is not enough - and sometimes, it will never converge)\n",
    "                     }\n",
    "\n",
    "\n",
    "\n",
    "\n",
    "best_grid_search_model = GridSearchCV(estimator=LogisticRegression(random_state=1),\n",
    "                                    scoring=score_measure, param_grid=param_grid, \n",
    "                                    cv=k_fold, verbose=0,  n_jobs = -1,error_score='raise')\n",
    "_ = best_grid_search_model.fit(train_X, train_y)\n",
    "print(score_measure, 'score: ', best_grid_search_model.best_score_)\n",
    "print('parameters: ', best_grid_search_model.best_params_)\n",
    "Best_recall_logistic = best_grid_search_model.best_score_\n",
    "Recall_values.append(best_grid_search_model.best_score_)"
   ]
  },
  {
   "cell_type": "markdown",
   "id": "b9f42642-9668-4cef-a793-75155974b925",
   "metadata": {},
   "source": [
    "### To find the best parameters, we have performed tuning for the following variables:\n",
    "#### C - float, default=1.0 Inverse of regularization strength; must be a positive float.\n",
    "#### penalty{‘l1’, ‘l2’, ‘elasticnet’, ‘none’}, default=l2\n",
    " \n",
    "            1. none: no penalty is added;\n",
    "            2. l2: add a L2 penalty term and it is the default choice;\n",
    "            3. l1: add a L1 penalty term;\n",
    "            4. elasticnet: both L1 and L2 penalty terms are added.\n",
    "#### solver{‘newton-cg’, ‘lbfgs’, ‘liblinear’, ‘sag’, ‘saga’}, default=’lbfgs’\n",
    "\n",
    "            1. For small datasets, ‘liblinear’ is a good choice, whereas ‘sag’ and ‘saga’ are faster for large ones;\n",
    "            2. For multiclass problems, only ‘newton-cg’, ‘sag’, ‘saga’ and ‘lbfgs’ handle multinomial loss;\n",
    "            3. liblinear is limited to one-versus-rest schemes.\n",
    "        \n",
    "#### max_iterint, default=100 ,Maximum number of iterations taken for the solvers to converge.\n",
    "\n",
    "#### After performing hyperparameter tuning when k-fold value is 10, we got the best model at'C': 100, 'max_iter': 1000, 'penalty': 'l1', 'solver': 'liblinear' with recall score:0.9506753812636164. "
   ]
  },
  {
   "cell_type": "code",
   "execution_count": 71,
   "id": "9cb0f74c-a612-4b36-a9a9-b6b9bdc44ebc",
   "metadata": {},
   "outputs": [
    {
     "name": "stdout",
     "output_type": "stream",
     "text": [
      "Recall scores...\n",
      "K-NN:                0.8802749515503876\n",
      "Decision Tree:       0.966132897603486\n",
      "Random Forest:       0.963937908496732\n",
      "Ada Boosted:         0.9676252723311547\n",
      "GradientBoosting:    0.9668899782135076\n",
      "XGBoost:             0.9676252723311547\n",
      "LogisticRegression:  0.9506753812636164\n"
     ]
    }
   ],
   "source": [
    "print(\"Recall scores...\")\n",
    "print(f\"{'K-NN:':11}          {Best_recall_knn}\")\n",
    "print(f\"{'Decision Tree:':11}       {Best_recall_DT}\")\n",
    "print(f\"{'Random Forest:':11}       {Best_recall_RF}\")\n",
    "print(f\"{'Ada Boosted:':11}         {Best_recall_AdaBoost}\")\n",
    "print(f\"{'GradientBoosting:':11}    {Best_recall_GB}\")\n",
    "print(f\"{'XGBoost:':11}          {Best_recall_XGB}\")\n",
    "print(f\"{'LogisticRegression:':11}  {Best_recall_logistic}\")"
   ]
  },
  {
   "cell_type": "code",
   "execution_count": 72,
   "id": "220e589a-4522-4096-bb2f-d761b62806d4",
   "metadata": {},
   "outputs": [],
   "source": [
    "score_df = pd.DataFrame(list(zip(Algorithms, Recall_values)),\n",
    "               columns =['Algorithm', 'Recall'])\n",
    "score_df\n",
    "score_df['state']=['Default','After_tunning']*7"
   ]
  },
  {
   "cell_type": "code",
   "execution_count": 73,
   "id": "e0bb5c19-5de1-41d8-86b6-f4ce553477d5",
   "metadata": {},
   "outputs": [
    {
     "data": {
      "text/html": [
       "<div>\n",
       "<style scoped>\n",
       "    .dataframe tbody tr th:only-of-type {\n",
       "        vertical-align: middle;\n",
       "    }\n",
       "\n",
       "    .dataframe tbody tr th {\n",
       "        vertical-align: top;\n",
       "    }\n",
       "\n",
       "    .dataframe thead th {\n",
       "        text-align: right;\n",
       "    }\n",
       "</style>\n",
       "<table border=\"1\" class=\"dataframe\">\n",
       "  <thead>\n",
       "    <tr style=\"text-align: right;\">\n",
       "      <th></th>\n",
       "      <th>Algorithm</th>\n",
       "      <th>Recall</th>\n",
       "      <th>state</th>\n",
       "    </tr>\n",
       "  </thead>\n",
       "  <tbody>\n",
       "    <tr>\n",
       "      <th>0</th>\n",
       "      <td>knn</td>\n",
       "      <td>0.847267</td>\n",
       "      <td>Default</td>\n",
       "    </tr>\n",
       "    <tr>\n",
       "      <th>1</th>\n",
       "      <td>knn</td>\n",
       "      <td>0.880275</td>\n",
       "      <td>After_tunning</td>\n",
       "    </tr>\n",
       "    <tr>\n",
       "      <th>2</th>\n",
       "      <td>DecisionTree</td>\n",
       "      <td>0.949091</td>\n",
       "      <td>Default</td>\n",
       "    </tr>\n",
       "    <tr>\n",
       "      <th>3</th>\n",
       "      <td>DecisionTree</td>\n",
       "      <td>0.966133</td>\n",
       "      <td>After_tunning</td>\n",
       "    </tr>\n",
       "    <tr>\n",
       "      <th>4</th>\n",
       "      <td>RandomForest</td>\n",
       "      <td>0.969091</td>\n",
       "      <td>Default</td>\n",
       "    </tr>\n",
       "    <tr>\n",
       "      <th>5</th>\n",
       "      <td>RandomForest</td>\n",
       "      <td>0.963938</td>\n",
       "      <td>After_tunning</td>\n",
       "    </tr>\n",
       "    <tr>\n",
       "      <th>6</th>\n",
       "      <td>AdaBoostClassifier</td>\n",
       "      <td>0.956364</td>\n",
       "      <td>Default</td>\n",
       "    </tr>\n",
       "    <tr>\n",
       "      <th>7</th>\n",
       "      <td>AdaBoostClassifier</td>\n",
       "      <td>0.967625</td>\n",
       "      <td>After_tunning</td>\n",
       "    </tr>\n",
       "    <tr>\n",
       "      <th>8</th>\n",
       "      <td>GradientBoosting</td>\n",
       "      <td>0.965455</td>\n",
       "      <td>Default</td>\n",
       "    </tr>\n",
       "    <tr>\n",
       "      <th>9</th>\n",
       "      <td>GradientBoosting</td>\n",
       "      <td>0.966890</td>\n",
       "      <td>After_tunning</td>\n",
       "    </tr>\n",
       "    <tr>\n",
       "      <th>10</th>\n",
       "      <td>XGBClassifier</td>\n",
       "      <td>0.969091</td>\n",
       "      <td>Default</td>\n",
       "    </tr>\n",
       "    <tr>\n",
       "      <th>11</th>\n",
       "      <td>XGBClassifier</td>\n",
       "      <td>0.967625</td>\n",
       "      <td>After_tunning</td>\n",
       "    </tr>\n",
       "    <tr>\n",
       "      <th>12</th>\n",
       "      <td>LogisticRegression</td>\n",
       "      <td>0.952727</td>\n",
       "      <td>Default</td>\n",
       "    </tr>\n",
       "    <tr>\n",
       "      <th>13</th>\n",
       "      <td>LogisticRegression</td>\n",
       "      <td>0.950675</td>\n",
       "      <td>After_tunning</td>\n",
       "    </tr>\n",
       "  </tbody>\n",
       "</table>\n",
       "</div>"
      ],
      "text/plain": [
       "             Algorithm    Recall          state\n",
       "0                  knn  0.847267        Default\n",
       "1                  knn  0.880275  After_tunning\n",
       "2         DecisionTree  0.949091        Default\n",
       "3         DecisionTree  0.966133  After_tunning\n",
       "4         RandomForest  0.969091        Default\n",
       "5         RandomForest  0.963938  After_tunning\n",
       "6   AdaBoostClassifier  0.956364        Default\n",
       "7   AdaBoostClassifier  0.967625  After_tunning\n",
       "8     GradientBoosting  0.965455        Default\n",
       "9     GradientBoosting  0.966890  After_tunning\n",
       "10       XGBClassifier  0.969091        Default\n",
       "11       XGBClassifier  0.967625  After_tunning\n",
       "12  LogisticRegression  0.952727        Default\n",
       "13  LogisticRegression  0.950675  After_tunning"
      ]
     },
     "execution_count": 73,
     "metadata": {},
     "output_type": "execute_result"
    }
   ],
   "source": [
    "score_df"
   ]
  },
  {
   "cell_type": "code",
   "execution_count": 74,
   "id": "098cc2f0-ea97-4f3c-86b5-30864babeda7",
   "metadata": {},
   "outputs": [
    {
     "data": {
      "image/png": "[encoded data removed]",
      "text/plain": [
       "<Figure size 1080x576 with 1 Axes>"
      ]
     },
     "metadata": {},
     "output_type": "display_data"
    }
   ],
   "source": [
    "sns.set(rc = {'figure.figsize':(15,8)})\n",
    "ax= sns.barplot(x = 'Algorithm',\n",
    "            y = 'Recall',\n",
    "            hue='state',\n",
    "            data = score_df,palette = \"Blues\",ci=None)\n",
    "for i in ax.containers:\n",
    "     ax.bar_label(i,fmt='%.3f%%')\n",
    "# Show the plot\n",
    "plt.show()"
   ]
  },
  {
   "cell_type": "markdown",
   "id": "6ae25638-8928-44ce-976a-40506f97bd9d",
   "metadata": {},
   "source": [
    "#### With the help of the aforementioned table and graph, we were able to draw a conclusion and determine the overall recall score that was obtained after evaluating the model. We discovered that XGBoost classifier, offers the best outcome of all, with a recall score of 0.9676252723311547."
   ]
  },
  {
   "cell_type": "markdown",
   "id": "8f19459c-243b-4ef9-a999-99b9b6bf679f",
   "metadata": {},
   "source": [
    "# Business Conclusion"
   ]
  },
  {
   "cell_type": "markdown",
   "id": "381780ca-d8e2-4a5e-8ef6-44883f35a3ee",
   "metadata": {},
   "source": [
    " #### We are concentrating on the recall in this case since FP is superior to FN. Applying the XGBoost classifier Model is found to be enhancing recall and also produces the best results in this case.\n",
    " #### We have discovered that the recall of the models has improved as a result of implementing K- Fold cross validation and hyper parameter adjustment.\n",
    " #### XGBoost classifier proved to be the superior model overall. In conclusion, techniques like K- Fold cross validation and hyper parameter tweaking are very helpful in raising the caliber of outputs for the development of binary classification models.\n",
    " #### Most of the actual positives were obtained by the XGBoost classifier approach. This will enable the investors or the owners to reduce its marketing expenses and increase its income by targeting the appropriate clients who are most likely to purchase the products.\n",
    " #### After using the support vector machines technique, the previously mentioned individuals who worked on this business challenge had a recall score of 79%, according to earlier research of the problem. We improved it even more from a comparative standpoint and discovered a greater recall score than in earlier research."
   ]
  }
 ],
 "metadata": {
  "kernelspec": {
   "display_name": "Python 3 (ipykernel)",
   "language": "python",
   "name": "python3"
  },
  "language_info": {
   "codemirror_mode": {
    "name": "ipython",
    "version": 3
   },
   "file_extension": ".py",
   "mimetype": "text/x-python",
   "name": "python",
   "nbconvert_exporter": "python",
   "pygments_lexer": "ipython3",
   "version": "3.9.12"
  }
 },
 "nbformat": 4,
 "nbformat_minor": 5
}
